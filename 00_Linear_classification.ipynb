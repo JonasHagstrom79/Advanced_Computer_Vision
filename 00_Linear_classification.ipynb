{
  "nbformat": 4,
  "nbformat_minor": 0,
  "metadata": {
    "colab": {
      "provenance": [],
      "authorship_tag": "ABX9TyMFUNtu4Ji/JwLRnlvw5L/4"
    },
    "kernelspec": {
      "name": "python3",
      "display_name": "Python 3"
    },
    "language_info": {
      "name": "python"
    }
  },
  "cells": [
    {
      "cell_type": "code",
      "execution_count": 1,
      "metadata": {
        "id": "pOonvUFGdZpY"
      },
      "outputs": [],
      "source": [
        "import tensorflow as tf"
      ]
    },
    {
      "cell_type": "code",
      "source": [
        "# load in the data\n",
        "from sklearn.datasets import load_breast_cancer"
      ],
      "metadata": {
        "id": "XwfPgaLAd7SC"
      },
      "execution_count": 2,
      "outputs": []
    },
    {
      "cell_type": "code",
      "source": [
        "data = load_breast_cancer()"
      ],
      "metadata": {
        "id": "I4_QzDTUeq6d"
      },
      "execution_count": 3,
      "outputs": []
    },
    {
      "cell_type": "code",
      "source": [
        "data"
      ],
      "metadata": {
        "colab": {
          "base_uri": "https://localhost:8080/"
        },
        "id": "Mqn3Ig8sexnZ",
        "outputId": "8eb7ebb4-0a6a-40d2-820b-059d65c22f8f"
      },
      "execution_count": 4,
      "outputs": [
        {
          "output_type": "execute_result",
          "data": {
            "text/plain": [
              "{'data': array([[1.799e+01, 1.038e+01, 1.228e+02, ..., 2.654e-01, 4.601e-01,\n",
              "         1.189e-01],\n",
              "        [2.057e+01, 1.777e+01, 1.329e+02, ..., 1.860e-01, 2.750e-01,\n",
              "         8.902e-02],\n",
              "        [1.969e+01, 2.125e+01, 1.300e+02, ..., 2.430e-01, 3.613e-01,\n",
              "         8.758e-02],\n",
              "        ...,\n",
              "        [1.660e+01, 2.808e+01, 1.083e+02, ..., 1.418e-01, 2.218e-01,\n",
              "         7.820e-02],\n",
              "        [2.060e+01, 2.933e+01, 1.401e+02, ..., 2.650e-01, 4.087e-01,\n",
              "         1.240e-01],\n",
              "        [7.760e+00, 2.454e+01, 4.792e+01, ..., 0.000e+00, 2.871e-01,\n",
              "         7.039e-02]]),\n",
              " 'target': array([0, 0, 0, 0, 0, 0, 0, 0, 0, 0, 0, 0, 0, 0, 0, 0, 0, 0, 0, 1, 1, 1,\n",
              "        0, 0, 0, 0, 0, 0, 0, 0, 0, 0, 0, 0, 0, 0, 0, 1, 0, 0, 0, 0, 0, 0,\n",
              "        0, 0, 1, 0, 1, 1, 1, 1, 1, 0, 0, 1, 0, 0, 1, 1, 1, 1, 0, 1, 0, 0,\n",
              "        1, 1, 1, 1, 0, 1, 0, 0, 1, 0, 1, 0, 0, 1, 1, 1, 0, 0, 1, 0, 0, 0,\n",
              "        1, 1, 1, 0, 1, 1, 0, 0, 1, 1, 1, 0, 0, 1, 1, 1, 1, 0, 1, 1, 0, 1,\n",
              "        1, 1, 1, 1, 1, 1, 1, 0, 0, 0, 1, 0, 0, 1, 1, 1, 0, 0, 1, 0, 1, 0,\n",
              "        0, 1, 0, 0, 1, 1, 0, 1, 1, 0, 1, 1, 1, 1, 0, 1, 1, 1, 1, 1, 1, 1,\n",
              "        1, 1, 0, 1, 1, 1, 1, 0, 0, 1, 0, 1, 1, 0, 0, 1, 1, 0, 0, 1, 1, 1,\n",
              "        1, 0, 1, 1, 0, 0, 0, 1, 0, 1, 0, 1, 1, 1, 0, 1, 1, 0, 0, 1, 0, 0,\n",
              "        0, 0, 1, 0, 0, 0, 1, 0, 1, 0, 1, 1, 0, 1, 0, 0, 0, 0, 1, 1, 0, 0,\n",
              "        1, 1, 1, 0, 1, 1, 1, 1, 1, 0, 0, 1, 1, 0, 1, 1, 0, 0, 1, 0, 1, 1,\n",
              "        1, 1, 0, 1, 1, 1, 1, 1, 0, 1, 0, 0, 0, 0, 0, 0, 0, 0, 0, 0, 0, 0,\n",
              "        0, 0, 1, 1, 1, 1, 1, 1, 0, 1, 0, 1, 1, 0, 1, 1, 0, 1, 0, 0, 1, 1,\n",
              "        1, 1, 1, 1, 1, 1, 1, 1, 1, 1, 1, 0, 1, 1, 0, 1, 0, 1, 1, 1, 1, 1,\n",
              "        1, 1, 1, 1, 1, 1, 1, 1, 1, 0, 1, 1, 1, 0, 1, 0, 1, 1, 1, 1, 0, 0,\n",
              "        0, 1, 1, 1, 1, 0, 1, 0, 1, 0, 1, 1, 1, 0, 1, 1, 1, 1, 1, 1, 1, 0,\n",
              "        0, 0, 1, 1, 1, 1, 1, 1, 1, 1, 1, 1, 1, 0, 0, 1, 0, 0, 0, 1, 0, 0,\n",
              "        1, 1, 1, 1, 1, 0, 1, 1, 1, 1, 1, 0, 1, 1, 1, 0, 1, 1, 0, 0, 1, 1,\n",
              "        1, 1, 1, 1, 0, 1, 1, 1, 1, 1, 1, 1, 0, 1, 1, 1, 1, 1, 0, 1, 1, 0,\n",
              "        1, 1, 1, 1, 1, 1, 1, 1, 1, 1, 1, 1, 0, 1, 0, 0, 1, 0, 1, 1, 1, 1,\n",
              "        1, 0, 1, 1, 0, 1, 0, 1, 1, 0, 1, 0, 1, 1, 1, 1, 1, 1, 1, 1, 0, 0,\n",
              "        1, 1, 1, 1, 1, 1, 0, 1, 1, 1, 1, 1, 1, 1, 1, 1, 1, 0, 1, 1, 1, 1,\n",
              "        1, 1, 1, 0, 1, 0, 1, 1, 0, 1, 1, 1, 1, 1, 0, 0, 1, 0, 1, 0, 1, 1,\n",
              "        1, 1, 1, 0, 1, 1, 0, 1, 0, 1, 0, 0, 1, 1, 1, 0, 1, 1, 1, 1, 1, 1,\n",
              "        1, 1, 1, 1, 1, 0, 1, 0, 0, 1, 1, 1, 1, 1, 1, 1, 1, 1, 1, 1, 1, 1,\n",
              "        1, 1, 1, 1, 1, 1, 1, 1, 1, 1, 1, 1, 0, 0, 0, 0, 0, 0, 1]),\n",
              " 'frame': None,\n",
              " 'target_names': array(['malignant', 'benign'], dtype='<U9'),\n",
              " 'DESCR': '.. _breast_cancer_dataset:\\n\\nBreast cancer wisconsin (diagnostic) dataset\\n--------------------------------------------\\n\\n**Data Set Characteristics:**\\n\\n    :Number of Instances: 569\\n\\n    :Number of Attributes: 30 numeric, predictive attributes and the class\\n\\n    :Attribute Information:\\n        - radius (mean of distances from center to points on the perimeter)\\n        - texture (standard deviation of gray-scale values)\\n        - perimeter\\n        - area\\n        - smoothness (local variation in radius lengths)\\n        - compactness (perimeter^2 / area - 1.0)\\n        - concavity (severity of concave portions of the contour)\\n        - concave points (number of concave portions of the contour)\\n        - symmetry\\n        - fractal dimension (\"coastline approximation\" - 1)\\n\\n        The mean, standard error, and \"worst\" or largest (mean of the three\\n        worst/largest values) of these features were computed for each image,\\n        resulting in 30 features.  For instance, field 0 is Mean Radius, field\\n        10 is Radius SE, field 20 is Worst Radius.\\n\\n        - class:\\n                - WDBC-Malignant\\n                - WDBC-Benign\\n\\n    :Summary Statistics:\\n\\n    ===================================== ====== ======\\n                                           Min    Max\\n    ===================================== ====== ======\\n    radius (mean):                        6.981  28.11\\n    texture (mean):                       9.71   39.28\\n    perimeter (mean):                     43.79  188.5\\n    area (mean):                          143.5  2501.0\\n    smoothness (mean):                    0.053  0.163\\n    compactness (mean):                   0.019  0.345\\n    concavity (mean):                     0.0    0.427\\n    concave points (mean):                0.0    0.201\\n    symmetry (mean):                      0.106  0.304\\n    fractal dimension (mean):             0.05   0.097\\n    radius (standard error):              0.112  2.873\\n    texture (standard error):             0.36   4.885\\n    perimeter (standard error):           0.757  21.98\\n    area (standard error):                6.802  542.2\\n    smoothness (standard error):          0.002  0.031\\n    compactness (standard error):         0.002  0.135\\n    concavity (standard error):           0.0    0.396\\n    concave points (standard error):      0.0    0.053\\n    symmetry (standard error):            0.008  0.079\\n    fractal dimension (standard error):   0.001  0.03\\n    radius (worst):                       7.93   36.04\\n    texture (worst):                      12.02  49.54\\n    perimeter (worst):                    50.41  251.2\\n    area (worst):                         185.2  4254.0\\n    smoothness (worst):                   0.071  0.223\\n    compactness (worst):                  0.027  1.058\\n    concavity (worst):                    0.0    1.252\\n    concave points (worst):               0.0    0.291\\n    symmetry (worst):                     0.156  0.664\\n    fractal dimension (worst):            0.055  0.208\\n    ===================================== ====== ======\\n\\n    :Missing Attribute Values: None\\n\\n    :Class Distribution: 212 - Malignant, 357 - Benign\\n\\n    :Creator:  Dr. William H. Wolberg, W. Nick Street, Olvi L. Mangasarian\\n\\n    :Donor: Nick Street\\n\\n    :Date: November, 1995\\n\\nThis is a copy of UCI ML Breast Cancer Wisconsin (Diagnostic) datasets.\\nhttps://goo.gl/U2Uwz2\\n\\nFeatures are computed from a digitized image of a fine needle\\naspirate (FNA) of a breast mass.  They describe\\ncharacteristics of the cell nuclei present in the image.\\n\\nSeparating plane described above was obtained using\\nMultisurface Method-Tree (MSM-T) [K. P. Bennett, \"Decision Tree\\nConstruction Via Linear Programming.\" Proceedings of the 4th\\nMidwest Artificial Intelligence and Cognitive Science Society,\\npp. 97-101, 1992], a classification method which uses linear\\nprogramming to construct a decision tree.  Relevant features\\nwere selected using an exhaustive search in the space of 1-4\\nfeatures and 1-3 separating planes.\\n\\nThe actual linear program used to obtain the separating plane\\nin the 3-dimensional space is that described in:\\n[K. P. Bennett and O. L. Mangasarian: \"Robust Linear\\nProgramming Discrimination of Two Linearly Inseparable Sets\",\\nOptimization Methods and Software 1, 1992, 23-34].\\n\\nThis database is also available through the UW CS ftp server:\\n\\nftp ftp.cs.wisc.edu\\ncd math-prog/cpo-dataset/machine-learn/WDBC/\\n\\n.. topic:: References\\n\\n   - W.N. Street, W.H. Wolberg and O.L. Mangasarian. Nuclear feature extraction \\n     for breast tumor diagnosis. IS&T/SPIE 1993 International Symposium on \\n     Electronic Imaging: Science and Technology, volume 1905, pages 861-870,\\n     San Jose, CA, 1993.\\n   - O.L. Mangasarian, W.N. Street and W.H. Wolberg. Breast cancer diagnosis and \\n     prognosis via linear programming. Operations Research, 43(4), pages 570-577, \\n     July-August 1995.\\n   - W.H. Wolberg, W.N. Street, and O.L. Mangasarian. Machine learning techniques\\n     to diagnose breast cancer from fine-needle aspirates. Cancer Letters 77 (1994) \\n     163-171.',\n",
              " 'feature_names': array(['mean radius', 'mean texture', 'mean perimeter', 'mean area',\n",
              "        'mean smoothness', 'mean compactness', 'mean concavity',\n",
              "        'mean concave points', 'mean symmetry', 'mean fractal dimension',\n",
              "        'radius error', 'texture error', 'perimeter error', 'area error',\n",
              "        'smoothness error', 'compactness error', 'concavity error',\n",
              "        'concave points error', 'symmetry error',\n",
              "        'fractal dimension error', 'worst radius', 'worst texture',\n",
              "        'worst perimeter', 'worst area', 'worst smoothness',\n",
              "        'worst compactness', 'worst concavity', 'worst concave points',\n",
              "        'worst symmetry', 'worst fractal dimension'], dtype='<U23'),\n",
              " 'filename': 'breast_cancer.csv',\n",
              " 'data_module': 'sklearn.datasets.data'}"
            ]
          },
          "metadata": {},
          "execution_count": 4
        }
      ]
    },
    {
      "cell_type": "code",
      "source": [
        "type(data)"
      ],
      "metadata": {
        "colab": {
          "base_uri": "https://localhost:8080/"
        },
        "id": "szEaFmOde0lx",
        "outputId": "11b63fbf-bbe4-4c08-a8c0-c8092bc036b1"
      },
      "execution_count": 5,
      "outputs": [
        {
          "output_type": "execute_result",
          "data": {
            "text/plain": [
              "sklearn.utils._bunch.Bunch"
            ]
          },
          "metadata": {},
          "execution_count": 5
        }
      ]
    },
    {
      "cell_type": "code",
      "source": [
        "data.keys()"
      ],
      "metadata": {
        "colab": {
          "base_uri": "https://localhost:8080/"
        },
        "id": "6P9Dh8b1e7x-",
        "outputId": "75a2dabf-20f2-4675-9b0b-0f213a887889"
      },
      "execution_count": 6,
      "outputs": [
        {
          "output_type": "execute_result",
          "data": {
            "text/plain": [
              "dict_keys(['data', 'target', 'frame', 'target_names', 'DESCR', 'feature_names', 'filename', 'data_module'])"
            ]
          },
          "metadata": {},
          "execution_count": 6
        }
      ]
    },
    {
      "cell_type": "code",
      "source": [
        "data.data"
      ],
      "metadata": {
        "colab": {
          "base_uri": "https://localhost:8080/"
        },
        "id": "-aSU2xDte_f6",
        "outputId": "13412d5f-b94c-473c-aa36-664a29b05bcc"
      },
      "execution_count": 7,
      "outputs": [
        {
          "output_type": "execute_result",
          "data": {
            "text/plain": [
              "array([[1.799e+01, 1.038e+01, 1.228e+02, ..., 2.654e-01, 4.601e-01,\n",
              "        1.189e-01],\n",
              "       [2.057e+01, 1.777e+01, 1.329e+02, ..., 1.860e-01, 2.750e-01,\n",
              "        8.902e-02],\n",
              "       [1.969e+01, 2.125e+01, 1.300e+02, ..., 2.430e-01, 3.613e-01,\n",
              "        8.758e-02],\n",
              "       ...,\n",
              "       [1.660e+01, 2.808e+01, 1.083e+02, ..., 1.418e-01, 2.218e-01,\n",
              "        7.820e-02],\n",
              "       [2.060e+01, 2.933e+01, 1.401e+02, ..., 2.650e-01, 4.087e-01,\n",
              "        1.240e-01],\n",
              "       [7.760e+00, 2.454e+01, 4.792e+01, ..., 0.000e+00, 2.871e-01,\n",
              "        7.039e-02]])"
            ]
          },
          "metadata": {},
          "execution_count": 7
        }
      ]
    },
    {
      "cell_type": "code",
      "source": [
        "data.data.shape"
      ],
      "metadata": {
        "colab": {
          "base_uri": "https://localhost:8080/"
        },
        "id": "6QoG7wCjfvJl",
        "outputId": "c3a8940b-feb4-4a86-fd11-09137969112d"
      },
      "execution_count": 8,
      "outputs": [
        {
          "output_type": "execute_result",
          "data": {
            "text/plain": [
              "(569, 30)"
            ]
          },
          "metadata": {},
          "execution_count": 8
        }
      ]
    },
    {
      "cell_type": "code",
      "source": [
        "# 0 & 1, this is a binary classification problem\n",
        "data.target"
      ],
      "metadata": {
        "colab": {
          "base_uri": "https://localhost:8080/"
        },
        "id": "gWbeHRihfz95",
        "outputId": "e511f567-6723-4473-98a0-bcba6fff21ee"
      },
      "execution_count": 9,
      "outputs": [
        {
          "output_type": "execute_result",
          "data": {
            "text/plain": [
              "array([0, 0, 0, 0, 0, 0, 0, 0, 0, 0, 0, 0, 0, 0, 0, 0, 0, 0, 0, 1, 1, 1,\n",
              "       0, 0, 0, 0, 0, 0, 0, 0, 0, 0, 0, 0, 0, 0, 0, 1, 0, 0, 0, 0, 0, 0,\n",
              "       0, 0, 1, 0, 1, 1, 1, 1, 1, 0, 0, 1, 0, 0, 1, 1, 1, 1, 0, 1, 0, 0,\n",
              "       1, 1, 1, 1, 0, 1, 0, 0, 1, 0, 1, 0, 0, 1, 1, 1, 0, 0, 1, 0, 0, 0,\n",
              "       1, 1, 1, 0, 1, 1, 0, 0, 1, 1, 1, 0, 0, 1, 1, 1, 1, 0, 1, 1, 0, 1,\n",
              "       1, 1, 1, 1, 1, 1, 1, 0, 0, 0, 1, 0, 0, 1, 1, 1, 0, 0, 1, 0, 1, 0,\n",
              "       0, 1, 0, 0, 1, 1, 0, 1, 1, 0, 1, 1, 1, 1, 0, 1, 1, 1, 1, 1, 1, 1,\n",
              "       1, 1, 0, 1, 1, 1, 1, 0, 0, 1, 0, 1, 1, 0, 0, 1, 1, 0, 0, 1, 1, 1,\n",
              "       1, 0, 1, 1, 0, 0, 0, 1, 0, 1, 0, 1, 1, 1, 0, 1, 1, 0, 0, 1, 0, 0,\n",
              "       0, 0, 1, 0, 0, 0, 1, 0, 1, 0, 1, 1, 0, 1, 0, 0, 0, 0, 1, 1, 0, 0,\n",
              "       1, 1, 1, 0, 1, 1, 1, 1, 1, 0, 0, 1, 1, 0, 1, 1, 0, 0, 1, 0, 1, 1,\n",
              "       1, 1, 0, 1, 1, 1, 1, 1, 0, 1, 0, 0, 0, 0, 0, 0, 0, 0, 0, 0, 0, 0,\n",
              "       0, 0, 1, 1, 1, 1, 1, 1, 0, 1, 0, 1, 1, 0, 1, 1, 0, 1, 0, 0, 1, 1,\n",
              "       1, 1, 1, 1, 1, 1, 1, 1, 1, 1, 1, 0, 1, 1, 0, 1, 0, 1, 1, 1, 1, 1,\n",
              "       1, 1, 1, 1, 1, 1, 1, 1, 1, 0, 1, 1, 1, 0, 1, 0, 1, 1, 1, 1, 0, 0,\n",
              "       0, 1, 1, 1, 1, 0, 1, 0, 1, 0, 1, 1, 1, 0, 1, 1, 1, 1, 1, 1, 1, 0,\n",
              "       0, 0, 1, 1, 1, 1, 1, 1, 1, 1, 1, 1, 1, 0, 0, 1, 0, 0, 0, 1, 0, 0,\n",
              "       1, 1, 1, 1, 1, 0, 1, 1, 1, 1, 1, 0, 1, 1, 1, 0, 1, 1, 0, 0, 1, 1,\n",
              "       1, 1, 1, 1, 0, 1, 1, 1, 1, 1, 1, 1, 0, 1, 1, 1, 1, 1, 0, 1, 1, 0,\n",
              "       1, 1, 1, 1, 1, 1, 1, 1, 1, 1, 1, 1, 0, 1, 0, 0, 1, 0, 1, 1, 1, 1,\n",
              "       1, 0, 1, 1, 0, 1, 0, 1, 1, 0, 1, 0, 1, 1, 1, 1, 1, 1, 1, 1, 0, 0,\n",
              "       1, 1, 1, 1, 1, 1, 0, 1, 1, 1, 1, 1, 1, 1, 1, 1, 1, 0, 1, 1, 1, 1,\n",
              "       1, 1, 1, 0, 1, 0, 1, 1, 0, 1, 1, 1, 1, 1, 0, 0, 1, 0, 1, 0, 1, 1,\n",
              "       1, 1, 1, 0, 1, 1, 0, 1, 0, 1, 0, 0, 1, 1, 1, 0, 1, 1, 1, 1, 1, 1,\n",
              "       1, 1, 1, 1, 1, 0, 1, 0, 0, 1, 1, 1, 1, 1, 1, 1, 1, 1, 1, 1, 1, 1,\n",
              "       1, 1, 1, 1, 1, 1, 1, 1, 1, 1, 1, 1, 0, 0, 0, 0, 0, 0, 1])"
            ]
          },
          "metadata": {},
          "execution_count": 9
        }
      ]
    },
    {
      "cell_type": "code",
      "source": [
        "# The two classes, what is 0 & 1?\n",
        "data.target_names"
      ],
      "metadata": {
        "colab": {
          "base_uri": "https://localhost:8080/"
        },
        "id": "8k0oCiz3f3L2",
        "outputId": "a7a296d2-f27d-4e48-8d9a-93c68bb8569d"
      },
      "execution_count": 10,
      "outputs": [
        {
          "output_type": "execute_result",
          "data": {
            "text/plain": [
              "array(['malignant', 'benign'], dtype='<U9')"
            ]
          },
          "metadata": {},
          "execution_count": 10
        }
      ]
    },
    {
      "cell_type": "code",
      "source": [
        "# check the shape of the target array (569 targets)\n",
        "data.target.shape"
      ],
      "metadata": {
        "colab": {
          "base_uri": "https://localhost:8080/"
        },
        "id": "ulnldBbtgZdg",
        "outputId": "4148e80e-6ef4-4cbd-ef3c-aa8c4dbef2cf"
      },
      "execution_count": 11,
      "outputs": [
        {
          "output_type": "execute_result",
          "data": {
            "text/plain": [
              "(569,)"
            ]
          },
          "metadata": {},
          "execution_count": 11
        }
      ]
    },
    {
      "cell_type": "code",
      "source": [
        "# check the features (What the colums mean)\n",
        "data.feature_names"
      ],
      "metadata": {
        "colab": {
          "base_uri": "https://localhost:8080/"
        },
        "id": "K35VE3o3gqa1",
        "outputId": "7fb13e31-0a70-49b0-ba79-90a05f764ce3"
      },
      "execution_count": 12,
      "outputs": [
        {
          "output_type": "execute_result",
          "data": {
            "text/plain": [
              "array(['mean radius', 'mean texture', 'mean perimeter', 'mean area',\n",
              "       'mean smoothness', 'mean compactness', 'mean concavity',\n",
              "       'mean concave points', 'mean symmetry', 'mean fractal dimension',\n",
              "       'radius error', 'texture error', 'perimeter error', 'area error',\n",
              "       'smoothness error', 'compactness error', 'concavity error',\n",
              "       'concave points error', 'symmetry error',\n",
              "       'fractal dimension error', 'worst radius', 'worst texture',\n",
              "       'worst perimeter', 'worst area', 'worst smoothness',\n",
              "       'worst compactness', 'worst concavity', 'worst concave points',\n",
              "       'worst symmetry', 'worst fractal dimension'], dtype='<U23')"
            ]
          },
          "metadata": {},
          "execution_count": 12
        }
      ]
    },
    {
      "cell_type": "code",
      "source": [
        "# train test split\n",
        "from sklearn.model_selection import train_test_split\n",
        "\n",
        "X_train, X_test, y_train, y_test = train_test_split(\n",
        "    data.data, data.target, test_size=0.33)"
      ],
      "metadata": {
        "id": "5mCwXvfKhBZ0"
      },
      "execution_count": 13,
      "outputs": []
    },
    {
      "cell_type": "code",
      "source": [
        "# get the shape of X_train\n",
        "N, D = X_train.shape"
      ],
      "metadata": {
        "id": "hbi-QLC9hlv_"
      },
      "execution_count": 14,
      "outputs": []
    },
    {
      "cell_type": "code",
      "source": [
        "# check out N, D\n",
        "N, D"
      ],
      "metadata": {
        "colab": {
          "base_uri": "https://localhost:8080/"
        },
        "id": "7Jr-PrYeh2Qq",
        "outputId": "519a2df4-ea4a-4cbc-b2a7-6a9210d9a1d8"
      },
      "execution_count": 15,
      "outputs": [
        {
          "output_type": "execute_result",
          "data": {
            "text/plain": [
              "(381, 30)"
            ]
          },
          "metadata": {},
          "execution_count": 15
        }
      ]
    },
    {
      "cell_type": "code",
      "source": [
        "# preprocess the data by scaling it\n",
        "from sklearn.preprocessing import StandardScaler\n",
        "\n",
        "# crate a standart scaler object\n",
        "scaler = StandardScaler()\n",
        "# call fit_transform(does fit & transform in one step) on the train set\n",
        "X_train = scaler.fit_transform(X_train)\n",
        "# call transform on the test set\n",
        "X_test = scaler.transform(X_test)"
      ],
      "metadata": {
        "id": "RNC3ax49h-iF"
      },
      "execution_count": 16,
      "outputs": []
    },
    {
      "cell_type": "code",
      "source": [
        "# creata a model object\n",
        "model = tf.keras.models.Sequential([\n",
        "    tf.keras.layers.Input(shape=(D)),\n",
        "    tf.keras.layers.Dense(1, activation='sigmoid') #\n",
        "])"
      ],
      "metadata": {
        "id": "GBT3DrWVjKdN"
      },
      "execution_count": 17,
      "outputs": []
    },
    {
      "cell_type": "code",
      "source": [
        "# compile the model\n",
        "model.compile(optimizer='adam',\n",
        "              loss='binary_crossentropy', # goes with sigoid wich goes with binary classification\n",
        "              metrics=['accuracy'])"
      ],
      "metadata": {
        "id": "ZlfzoX8Wj0eO"
      },
      "execution_count": 18,
      "outputs": []
    },
    {
      "cell_type": "code",
      "source": [
        "# train the model\n",
        "r = model.fit(X_train, y_train, validation_data=(X_test, y_test), epochs=100)"
      ],
      "metadata": {
        "colab": {
          "base_uri": "https://localhost:8080/"
        },
        "id": "vWgj_RAakgY6",
        "outputId": "18c0658e-3048-4d7a-efab-8ef318a6ac84"
      },
      "execution_count": 19,
      "outputs": [
        {
          "output_type": "stream",
          "name": "stdout",
          "text": [
            "Epoch 1/100\n",
            "12/12 [==============================] - 4s 119ms/step - loss: 1.3631 - accuracy: 0.2283 - val_loss: 1.1991 - val_accuracy: 0.2553\n",
            "Epoch 2/100\n",
            "12/12 [==============================] - 0s 19ms/step - loss: 1.2369 - accuracy: 0.2677 - val_loss: 1.0834 - val_accuracy: 0.3032\n",
            "Epoch 3/100\n",
            "12/12 [==============================] - 0s 17ms/step - loss: 1.1204 - accuracy: 0.3176 - val_loss: 0.9770 - val_accuracy: 0.3511\n",
            "Epoch 4/100\n",
            "12/12 [==============================] - 0s 10ms/step - loss: 1.0097 - accuracy: 0.3465 - val_loss: 0.8838 - val_accuracy: 0.4255\n",
            "Epoch 5/100\n",
            "12/12 [==============================] - 0s 11ms/step - loss: 0.9156 - accuracy: 0.4226 - val_loss: 0.7991 - val_accuracy: 0.5213\n",
            "Epoch 6/100\n",
            "12/12 [==============================] - 0s 15ms/step - loss: 0.8275 - accuracy: 0.4672 - val_loss: 0.7267 - val_accuracy: 0.6011\n",
            "Epoch 7/100\n",
            "12/12 [==============================] - 0s 12ms/step - loss: 0.7537 - accuracy: 0.5276 - val_loss: 0.6627 - val_accuracy: 0.6755\n",
            "Epoch 8/100\n",
            "12/12 [==============================] - 0s 12ms/step - loss: 0.6859 - accuracy: 0.6352 - val_loss: 0.6096 - val_accuracy: 0.6968\n",
            "Epoch 9/100\n",
            "12/12 [==============================] - 0s 9ms/step - loss: 0.6297 - accuracy: 0.6824 - val_loss: 0.5640 - val_accuracy: 0.7287\n",
            "Epoch 10/100\n",
            "12/12 [==============================] - 0s 15ms/step - loss: 0.5804 - accuracy: 0.7165 - val_loss: 0.5253 - val_accuracy: 0.7447\n",
            "Epoch 11/100\n",
            "12/12 [==============================] - 0s 17ms/step - loss: 0.5388 - accuracy: 0.7664 - val_loss: 0.4930 - val_accuracy: 0.7979\n",
            "Epoch 12/100\n",
            "12/12 [==============================] - 0s 19ms/step - loss: 0.5034 - accuracy: 0.7953 - val_loss: 0.4651 - val_accuracy: 0.8191\n",
            "Epoch 13/100\n",
            "12/12 [==============================] - 0s 12ms/step - loss: 0.4720 - accuracy: 0.8373 - val_loss: 0.4415 - val_accuracy: 0.8457\n",
            "Epoch 14/100\n",
            "12/12 [==============================] - 0s 19ms/step - loss: 0.4451 - accuracy: 0.8425 - val_loss: 0.4212 - val_accuracy: 0.8564\n",
            "Epoch 15/100\n",
            "12/12 [==============================] - 0s 6ms/step - loss: 0.4223 - accuracy: 0.8530 - val_loss: 0.4029 - val_accuracy: 0.8617\n",
            "Epoch 16/100\n",
            "12/12 [==============================] - 0s 7ms/step - loss: 0.4020 - accuracy: 0.8661 - val_loss: 0.3869 - val_accuracy: 0.8670\n",
            "Epoch 17/100\n",
            "12/12 [==============================] - 0s 9ms/step - loss: 0.3844 - accuracy: 0.8609 - val_loss: 0.3726 - val_accuracy: 0.8670\n",
            "Epoch 18/100\n",
            "12/12 [==============================] - 0s 14ms/step - loss: 0.3682 - accuracy: 0.8714 - val_loss: 0.3598 - val_accuracy: 0.8723\n",
            "Epoch 19/100\n",
            "12/12 [==============================] - 0s 11ms/step - loss: 0.3545 - accuracy: 0.8766 - val_loss: 0.3480 - val_accuracy: 0.8777\n",
            "Epoch 20/100\n",
            "12/12 [==============================] - 0s 9ms/step - loss: 0.3416 - accuracy: 0.8924 - val_loss: 0.3372 - val_accuracy: 0.8830\n",
            "Epoch 21/100\n",
            "12/12 [==============================] - 0s 9ms/step - loss: 0.3300 - accuracy: 0.8950 - val_loss: 0.3273 - val_accuracy: 0.8830\n",
            "Epoch 22/100\n",
            "12/12 [==============================] - 0s 15ms/step - loss: 0.3196 - accuracy: 0.8976 - val_loss: 0.3179 - val_accuracy: 0.8830\n",
            "Epoch 23/100\n",
            "12/12 [==============================] - 0s 9ms/step - loss: 0.3100 - accuracy: 0.9055 - val_loss: 0.3097 - val_accuracy: 0.8830\n",
            "Epoch 24/100\n",
            "12/12 [==============================] - 0s 13ms/step - loss: 0.3009 - accuracy: 0.9081 - val_loss: 0.3017 - val_accuracy: 0.8830\n",
            "Epoch 25/100\n",
            "12/12 [==============================] - 0s 7ms/step - loss: 0.2928 - accuracy: 0.9134 - val_loss: 0.2940 - val_accuracy: 0.8883\n",
            "Epoch 26/100\n",
            "12/12 [==============================] - 0s 7ms/step - loss: 0.2850 - accuracy: 0.9134 - val_loss: 0.2871 - val_accuracy: 0.8989\n",
            "Epoch 27/100\n",
            "12/12 [==============================] - 0s 7ms/step - loss: 0.2780 - accuracy: 0.9160 - val_loss: 0.2803 - val_accuracy: 0.9096\n",
            "Epoch 28/100\n",
            "12/12 [==============================] - 0s 7ms/step - loss: 0.2711 - accuracy: 0.9186 - val_loss: 0.2740 - val_accuracy: 0.9043\n",
            "Epoch 29/100\n",
            "12/12 [==============================] - 0s 9ms/step - loss: 0.2648 - accuracy: 0.9213 - val_loss: 0.2679 - val_accuracy: 0.9043\n",
            "Epoch 30/100\n",
            "12/12 [==============================] - 0s 6ms/step - loss: 0.2589 - accuracy: 0.9213 - val_loss: 0.2622 - val_accuracy: 0.9043\n",
            "Epoch 31/100\n",
            "12/12 [==============================] - 0s 5ms/step - loss: 0.2533 - accuracy: 0.9213 - val_loss: 0.2566 - val_accuracy: 0.9096\n",
            "Epoch 32/100\n",
            "12/12 [==============================] - 0s 8ms/step - loss: 0.2479 - accuracy: 0.9265 - val_loss: 0.2512 - val_accuracy: 0.9096\n",
            "Epoch 33/100\n",
            "12/12 [==============================] - 0s 6ms/step - loss: 0.2428 - accuracy: 0.9318 - val_loss: 0.2462 - val_accuracy: 0.9096\n",
            "Epoch 34/100\n",
            "12/12 [==============================] - 0s 6ms/step - loss: 0.2380 - accuracy: 0.9318 - val_loss: 0.2415 - val_accuracy: 0.9096\n",
            "Epoch 35/100\n",
            "12/12 [==============================] - 0s 10ms/step - loss: 0.2334 - accuracy: 0.9344 - val_loss: 0.2367 - val_accuracy: 0.9149\n",
            "Epoch 36/100\n",
            "12/12 [==============================] - 0s 7ms/step - loss: 0.2290 - accuracy: 0.9370 - val_loss: 0.2321 - val_accuracy: 0.9202\n",
            "Epoch 37/100\n",
            "12/12 [==============================] - 0s 6ms/step - loss: 0.2247 - accuracy: 0.9423 - val_loss: 0.2281 - val_accuracy: 0.9202\n",
            "Epoch 38/100\n",
            "12/12 [==============================] - 0s 5ms/step - loss: 0.2209 - accuracy: 0.9423 - val_loss: 0.2237 - val_accuracy: 0.9202\n",
            "Epoch 39/100\n",
            "12/12 [==============================] - 0s 6ms/step - loss: 0.2169 - accuracy: 0.9423 - val_loss: 0.2197 - val_accuracy: 0.9255\n",
            "Epoch 40/100\n",
            "12/12 [==============================] - 0s 7ms/step - loss: 0.2133 - accuracy: 0.9423 - val_loss: 0.2161 - val_accuracy: 0.9255\n",
            "Epoch 41/100\n",
            "12/12 [==============================] - 0s 7ms/step - loss: 0.2097 - accuracy: 0.9423 - val_loss: 0.2124 - val_accuracy: 0.9255\n",
            "Epoch 42/100\n",
            "12/12 [==============================] - 0s 6ms/step - loss: 0.2063 - accuracy: 0.9423 - val_loss: 0.2089 - val_accuracy: 0.9255\n",
            "Epoch 43/100\n",
            "12/12 [==============================] - 0s 6ms/step - loss: 0.2031 - accuracy: 0.9501 - val_loss: 0.2056 - val_accuracy: 0.9255\n",
            "Epoch 44/100\n",
            "12/12 [==============================] - 0s 10ms/step - loss: 0.2000 - accuracy: 0.9501 - val_loss: 0.2020 - val_accuracy: 0.9255\n",
            "Epoch 45/100\n",
            "12/12 [==============================] - 0s 7ms/step - loss: 0.1969 - accuracy: 0.9501 - val_loss: 0.1987 - val_accuracy: 0.9309\n",
            "Epoch 46/100\n",
            "12/12 [==============================] - 0s 6ms/step - loss: 0.1940 - accuracy: 0.9501 - val_loss: 0.1955 - val_accuracy: 0.9309\n",
            "Epoch 47/100\n",
            "12/12 [==============================] - 0s 5ms/step - loss: 0.1912 - accuracy: 0.9528 - val_loss: 0.1927 - val_accuracy: 0.9309\n",
            "Epoch 48/100\n",
            "12/12 [==============================] - 0s 5ms/step - loss: 0.1885 - accuracy: 0.9554 - val_loss: 0.1897 - val_accuracy: 0.9309\n",
            "Epoch 49/100\n",
            "12/12 [==============================] - 0s 6ms/step - loss: 0.1860 - accuracy: 0.9554 - val_loss: 0.1868 - val_accuracy: 0.9309\n",
            "Epoch 50/100\n",
            "12/12 [==============================] - 0s 8ms/step - loss: 0.1834 - accuracy: 0.9606 - val_loss: 0.1839 - val_accuracy: 0.9309\n",
            "Epoch 51/100\n",
            "12/12 [==============================] - 0s 12ms/step - loss: 0.1808 - accuracy: 0.9606 - val_loss: 0.1815 - val_accuracy: 0.9309\n",
            "Epoch 52/100\n",
            "12/12 [==============================] - 0s 6ms/step - loss: 0.1787 - accuracy: 0.9659 - val_loss: 0.1789 - val_accuracy: 0.9309\n",
            "Epoch 53/100\n",
            "12/12 [==============================] - 0s 9ms/step - loss: 0.1763 - accuracy: 0.9659 - val_loss: 0.1764 - val_accuracy: 0.9362\n",
            "Epoch 54/100\n",
            "12/12 [==============================] - 0s 7ms/step - loss: 0.1740 - accuracy: 0.9685 - val_loss: 0.1742 - val_accuracy: 0.9362\n",
            "Epoch 55/100\n",
            "12/12 [==============================] - 0s 6ms/step - loss: 0.1721 - accuracy: 0.9685 - val_loss: 0.1716 - val_accuracy: 0.9362\n",
            "Epoch 56/100\n",
            "12/12 [==============================] - 0s 6ms/step - loss: 0.1700 - accuracy: 0.9659 - val_loss: 0.1692 - val_accuracy: 0.9362\n",
            "Epoch 57/100\n",
            "12/12 [==============================] - 0s 6ms/step - loss: 0.1679 - accuracy: 0.9685 - val_loss: 0.1672 - val_accuracy: 0.9362\n",
            "Epoch 58/100\n",
            "12/12 [==============================] - 0s 5ms/step - loss: 0.1660 - accuracy: 0.9685 - val_loss: 0.1650 - val_accuracy: 0.9362\n",
            "Epoch 59/100\n",
            "12/12 [==============================] - 0s 6ms/step - loss: 0.1641 - accuracy: 0.9685 - val_loss: 0.1630 - val_accuracy: 0.9362\n",
            "Epoch 60/100\n",
            "12/12 [==============================] - 0s 5ms/step - loss: 0.1622 - accuracy: 0.9685 - val_loss: 0.1611 - val_accuracy: 0.9362\n",
            "Epoch 61/100\n",
            "12/12 [==============================] - 0s 6ms/step - loss: 0.1605 - accuracy: 0.9685 - val_loss: 0.1592 - val_accuracy: 0.9362\n",
            "Epoch 62/100\n",
            "12/12 [==============================] - 0s 6ms/step - loss: 0.1588 - accuracy: 0.9685 - val_loss: 0.1571 - val_accuracy: 0.9362\n",
            "Epoch 63/100\n",
            "12/12 [==============================] - 0s 6ms/step - loss: 0.1571 - accuracy: 0.9685 - val_loss: 0.1553 - val_accuracy: 0.9362\n",
            "Epoch 64/100\n",
            "12/12 [==============================] - 0s 6ms/step - loss: 0.1555 - accuracy: 0.9685 - val_loss: 0.1535 - val_accuracy: 0.9415\n",
            "Epoch 65/100\n",
            "12/12 [==============================] - 0s 6ms/step - loss: 0.1540 - accuracy: 0.9685 - val_loss: 0.1517 - val_accuracy: 0.9415\n",
            "Epoch 66/100\n",
            "12/12 [==============================] - 0s 6ms/step - loss: 0.1524 - accuracy: 0.9685 - val_loss: 0.1500 - val_accuracy: 0.9415\n",
            "Epoch 67/100\n",
            "12/12 [==============================] - 0s 6ms/step - loss: 0.1509 - accuracy: 0.9685 - val_loss: 0.1485 - val_accuracy: 0.9415\n",
            "Epoch 68/100\n",
            "12/12 [==============================] - 0s 6ms/step - loss: 0.1495 - accuracy: 0.9685 - val_loss: 0.1468 - val_accuracy: 0.9415\n",
            "Epoch 69/100\n",
            "12/12 [==============================] - 0s 12ms/step - loss: 0.1481 - accuracy: 0.9685 - val_loss: 0.1453 - val_accuracy: 0.9415\n",
            "Epoch 70/100\n",
            "12/12 [==============================] - 0s 16ms/step - loss: 0.1467 - accuracy: 0.9685 - val_loss: 0.1438 - val_accuracy: 0.9415\n",
            "Epoch 71/100\n",
            "12/12 [==============================] - 0s 15ms/step - loss: 0.1454 - accuracy: 0.9685 - val_loss: 0.1423 - val_accuracy: 0.9468\n",
            "Epoch 72/100\n",
            "12/12 [==============================] - 0s 11ms/step - loss: 0.1441 - accuracy: 0.9685 - val_loss: 0.1410 - val_accuracy: 0.9468\n",
            "Epoch 73/100\n",
            "12/12 [==============================] - 0s 7ms/step - loss: 0.1428 - accuracy: 0.9685 - val_loss: 0.1396 - val_accuracy: 0.9574\n",
            "Epoch 74/100\n",
            "12/12 [==============================] - 0s 7ms/step - loss: 0.1416 - accuracy: 0.9685 - val_loss: 0.1383 - val_accuracy: 0.9574\n",
            "Epoch 75/100\n",
            "12/12 [==============================] - 0s 6ms/step - loss: 0.1404 - accuracy: 0.9685 - val_loss: 0.1370 - val_accuracy: 0.9574\n",
            "Epoch 76/100\n",
            "12/12 [==============================] - 0s 6ms/step - loss: 0.1392 - accuracy: 0.9685 - val_loss: 0.1357 - val_accuracy: 0.9574\n",
            "Epoch 77/100\n",
            "12/12 [==============================] - 0s 8ms/step - loss: 0.1381 - accuracy: 0.9685 - val_loss: 0.1344 - val_accuracy: 0.9574\n",
            "Epoch 78/100\n",
            "12/12 [==============================] - 0s 6ms/step - loss: 0.1370 - accuracy: 0.9685 - val_loss: 0.1332 - val_accuracy: 0.9574\n",
            "Epoch 79/100\n",
            "12/12 [==============================] - 0s 7ms/step - loss: 0.1359 - accuracy: 0.9685 - val_loss: 0.1320 - val_accuracy: 0.9574\n",
            "Epoch 80/100\n",
            "12/12 [==============================] - 0s 8ms/step - loss: 0.1348 - accuracy: 0.9685 - val_loss: 0.1309 - val_accuracy: 0.9574\n",
            "Epoch 81/100\n",
            "12/12 [==============================] - 0s 8ms/step - loss: 0.1338 - accuracy: 0.9685 - val_loss: 0.1297 - val_accuracy: 0.9574\n",
            "Epoch 82/100\n",
            "12/12 [==============================] - 0s 12ms/step - loss: 0.1328 - accuracy: 0.9685 - val_loss: 0.1286 - val_accuracy: 0.9574\n",
            "Epoch 83/100\n",
            "12/12 [==============================] - 0s 12ms/step - loss: 0.1318 - accuracy: 0.9685 - val_loss: 0.1276 - val_accuracy: 0.9574\n",
            "Epoch 84/100\n",
            "12/12 [==============================] - 0s 15ms/step - loss: 0.1309 - accuracy: 0.9685 - val_loss: 0.1266 - val_accuracy: 0.9574\n",
            "Epoch 85/100\n",
            "12/12 [==============================] - 0s 21ms/step - loss: 0.1300 - accuracy: 0.9685 - val_loss: 0.1255 - val_accuracy: 0.9574\n",
            "Epoch 86/100\n",
            "12/12 [==============================] - 0s 16ms/step - loss: 0.1290 - accuracy: 0.9685 - val_loss: 0.1246 - val_accuracy: 0.9574\n",
            "Epoch 87/100\n",
            "12/12 [==============================] - 0s 21ms/step - loss: 0.1281 - accuracy: 0.9685 - val_loss: 0.1236 - val_accuracy: 0.9574\n",
            "Epoch 88/100\n",
            "12/12 [==============================] - 0s 26ms/step - loss: 0.1272 - accuracy: 0.9685 - val_loss: 0.1227 - val_accuracy: 0.9574\n",
            "Epoch 89/100\n",
            "12/12 [==============================] - 0s 28ms/step - loss: 0.1264 - accuracy: 0.9738 - val_loss: 0.1217 - val_accuracy: 0.9574\n",
            "Epoch 90/100\n",
            "12/12 [==============================] - 0s 22ms/step - loss: 0.1256 - accuracy: 0.9738 - val_loss: 0.1208 - val_accuracy: 0.9574\n",
            "Epoch 91/100\n",
            "12/12 [==============================] - 0s 30ms/step - loss: 0.1247 - accuracy: 0.9738 - val_loss: 0.1199 - val_accuracy: 0.9574\n",
            "Epoch 92/100\n",
            "12/12 [==============================] - 0s 13ms/step - loss: 0.1239 - accuracy: 0.9711 - val_loss: 0.1190 - val_accuracy: 0.9628\n",
            "Epoch 93/100\n",
            "12/12 [==============================] - 0s 11ms/step - loss: 0.1232 - accuracy: 0.9738 - val_loss: 0.1183 - val_accuracy: 0.9628\n",
            "Epoch 94/100\n",
            "12/12 [==============================] - 0s 13ms/step - loss: 0.1224 - accuracy: 0.9738 - val_loss: 0.1174 - val_accuracy: 0.9628\n",
            "Epoch 95/100\n",
            "12/12 [==============================] - 0s 10ms/step - loss: 0.1216 - accuracy: 0.9738 - val_loss: 0.1166 - val_accuracy: 0.9628\n",
            "Epoch 96/100\n",
            "12/12 [==============================] - 0s 22ms/step - loss: 0.1208 - accuracy: 0.9738 - val_loss: 0.1159 - val_accuracy: 0.9628\n",
            "Epoch 97/100\n",
            "12/12 [==============================] - 0s 16ms/step - loss: 0.1202 - accuracy: 0.9738 - val_loss: 0.1151 - val_accuracy: 0.9628\n",
            "Epoch 98/100\n",
            "12/12 [==============================] - 0s 12ms/step - loss: 0.1195 - accuracy: 0.9738 - val_loss: 0.1143 - val_accuracy: 0.9628\n",
            "Epoch 99/100\n",
            "12/12 [==============================] - 0s 21ms/step - loss: 0.1187 - accuracy: 0.9738 - val_loss: 0.1136 - val_accuracy: 0.9628\n",
            "Epoch 100/100\n",
            "12/12 [==============================] - 0s 8ms/step - loss: 0.1181 - accuracy: 0.9738 - val_loss: 0.1129 - val_accuracy: 0.9628\n"
          ]
        }
      ]
    },
    {
      "cell_type": "code",
      "source": [
        "# check the final score, this vill return all the metrics for the data that u pass in\n",
        "print(\"Train score:\", model.evaluate(X_train, y_train))\n",
        "print(\"Test score:\", model.evaluate(X_test, y_test))"
      ],
      "metadata": {
        "colab": {
          "base_uri": "https://localhost:8080/"
        },
        "id": "SJrz8_YBkL6x",
        "outputId": "2cb91e00-2921-4f97-f9bb-5aa7234837bb"
      },
      "execution_count": 20,
      "outputs": [
        {
          "output_type": "stream",
          "name": "stdout",
          "text": [
            "12/12 [==============================] - 0s 3ms/step - loss: 0.1177 - accuracy: 0.9738\n",
            "Train score: [0.11766427010297775, 0.9737532734870911]\n",
            "6/6 [==============================] - 0s 5ms/step - loss: 0.1129 - accuracy: 0.9628\n",
            "Test score: [0.11286261677742004, 0.9627659320831299]\n"
          ]
        }
      ]
    },
    {
      "cell_type": "code",
      "source": [
        "# plot the loss per epoch\n",
        "import matplotlib.pyplot as plt\n",
        "\n",
        "plt.plot(r.history['loss'], label='loss')\n",
        "plt.plot(r.history['val_loss'], label='val_loss')\n",
        "plt.legend()"
      ],
      "metadata": {
        "colab": {
          "base_uri": "https://localhost:8080/",
          "height": 447
        },
        "id": "IuGZIrlTmInl",
        "outputId": "1e97f2fb-1a6c-4322-b65f-f4371b797489"
      },
      "execution_count": 21,
      "outputs": [
        {
          "output_type": "execute_result",
          "data": {
            "text/plain": [
              "<matplotlib.legend.Legend at 0x7fca3c3890c0>"
            ]
          },
          "metadata": {},
          "execution_count": 21
        },
        {
          "output_type": "display_data",
          "data": {
            "text/plain": [
              "<Figure size 640x480 with 1 Axes>"
            ],
            "image/png": "[encoded data removed]"
          },
          "metadata": {}
        }
      ]
    },
    {
      "cell_type": "code",
      "source": [
        "# plot the accuracy\n",
        "plt.plot(r.history['accuracy'], label='acc')\n",
        "plt.plot(r.history['val_accuracy'], label='val_acc')\n",
        "plt.legend()"
      ],
      "metadata": {
        "colab": {
          "base_uri": "https://localhost:8080/",
          "height": 447
        },
        "id": "7NXOJM5jm0HX",
        "outputId": "e0473b74-eb3a-42ed-9ddb-df349aa86e4f"
      },
      "execution_count": 22,
      "outputs": [
        {
          "output_type": "execute_result",
          "data": {
            "text/plain": [
              "<matplotlib.legend.Legend at 0x7fca3c42fee0>"
            ]
          },
          "metadata": {},
          "execution_count": 22
        },
        {
          "output_type": "display_data",
          "data": {
            "text/plain": [
              "<Figure size 640x480 with 1 Axes>"
            ],
            "image/png": "[encoded data removed]"
          },
          "metadata": {}
        }
      ]
    },
    {
      "cell_type": "code",
      "source": [
        "# Make predictions\n",
        "P = model.predict(X_test)\n",
        "# they are outputs of the sigmoid, interpreted as probabilities p(y = 1 | x)\n",
        "print(P)"
      ],
      "metadata": {
        "colab": {
          "base_uri": "https://localhost:8080/"
        },
        "id": "QrJXZLf_Qiby",
        "outputId": "dabea914-87b1-4c2a-df93-865500124a99"
      },
      "execution_count": 23,
      "outputs": [
        {
          "output_type": "stream",
          "name": "stdout",
          "text": [
            "6/6 [==============================] - 0s 2ms/step\n",
            "[[9.6807367e-01]\n",
            " [1.3905191e-01]\n",
            " [1.8291087e-01]\n",
            " [6.9424087e-01]\n",
            " [5.2258413e-04]\n",
            " [6.4592767e-01]\n",
            " [9.7849751e-01]\n",
            " [2.3363233e-01]\n",
            " [4.2281426e-02]\n",
            " [4.9169615e-01]\n",
            " [8.4009796e-01]\n",
            " [9.7204244e-01]\n",
            " [9.8882186e-01]\n",
            " [9.9318022e-01]\n",
            " [1.0920633e-01]\n",
            " [7.1739089e-01]\n",
            " [7.8455675e-01]\n",
            " [3.0480901e-02]\n",
            " [9.9664181e-01]\n",
            " [9.1445357e-01]\n",
            " [9.3093133e-01]\n",
            " [9.9396527e-01]\n",
            " [9.8537517e-01]\n",
            " [6.9003868e-01]\n",
            " [1.4012296e-01]\n",
            " [9.6313787e-01]\n",
            " [9.8044932e-01]\n",
            " [5.9956765e-01]\n",
            " [6.1327047e-03]\n",
            " [3.0924988e-01]\n",
            " [5.7646155e-01]\n",
            " [2.7159939e-04]\n",
            " [9.8033118e-01]\n",
            " [1.3275425e-03]\n",
            " [9.7213924e-01]\n",
            " [7.5905257e-01]\n",
            " [9.7790116e-01]\n",
            " [3.3619803e-01]\n",
            " [6.6522920e-01]\n",
            " [1.2097349e-03]\n",
            " [9.7615552e-01]\n",
            " [9.9594587e-01]\n",
            " [9.9980152e-01]\n",
            " [9.9066865e-01]\n",
            " [9.8184729e-01]\n",
            " [7.7459323e-01]\n",
            " [8.8869734e-03]\n",
            " [9.4345433e-01]\n",
            " [4.1487678e-05]\n",
            " [2.5569936e-02]\n",
            " [7.6894838e-01]\n",
            " [6.5295273e-01]\n",
            " [1.8993115e-01]\n",
            " [9.9927348e-01]\n",
            " [1.8134063e-04]\n",
            " [9.8410714e-01]\n",
            " [9.9811274e-01]\n",
            " [9.9770260e-01]\n",
            " [1.3319482e-02]\n",
            " [8.0429971e-01]\n",
            " [1.6879601e-02]\n",
            " [8.6962563e-01]\n",
            " [1.9571042e-02]\n",
            " [1.0207830e-02]\n",
            " [9.8078215e-01]\n",
            " [2.1236715e-09]\n",
            " [9.6601403e-01]\n",
            " [1.5043153e-01]\n",
            " [9.9598891e-01]\n",
            " [9.3908787e-01]\n",
            " [9.8636752e-01]\n",
            " [9.9372339e-01]\n",
            " [8.7914181e-01]\n",
            " [9.9112904e-01]\n",
            " [1.6389545e-02]\n",
            " [8.6143339e-01]\n",
            " [9.3007862e-04]\n",
            " [9.7077858e-01]\n",
            " [1.9450727e-04]\n",
            " [6.0946617e-02]\n",
            " [9.9092454e-01]\n",
            " [1.6222714e-02]\n",
            " [2.6423201e-01]\n",
            " [3.0418543e-05]\n",
            " [9.8668176e-01]\n",
            " [9.7601289e-01]\n",
            " [9.4216824e-01]\n",
            " [2.4162321e-01]\n",
            " [3.7279961e-01]\n",
            " [6.1120294e-02]\n",
            " [3.6237532e-01]\n",
            " [9.4900054e-01]\n",
            " [9.6961552e-01]\n",
            " [8.6938637e-01]\n",
            " [8.4343122e-04]\n",
            " [5.5482434e-03]\n",
            " [9.9865294e-01]\n",
            " [9.9069518e-01]\n",
            " [1.0748846e-05]\n",
            " [9.8985213e-01]\n",
            " [2.7316397e-03]\n",
            " [9.9725556e-01]\n",
            " [5.7577366e-01]\n",
            " [9.8353773e-01]\n",
            " [9.8166513e-01]\n",
            " [9.9705374e-01]\n",
            " [9.9772811e-01]\n",
            " [8.7860870e-01]\n",
            " [6.2970176e-02]\n",
            " [4.5718783e-01]\n",
            " [7.3282234e-07]\n",
            " [9.3705642e-01]\n",
            " [2.8298384e-02]\n",
            " [5.2779727e-04]\n",
            " [2.7900904e-02]\n",
            " [9.4246888e-01]\n",
            " [2.6083102e-02]\n",
            " [1.4781301e-01]\n",
            " [9.4684304e-07]\n",
            " [5.4067828e-02]\n",
            " [5.6527990e-01]\n",
            " [7.9847239e-03]\n",
            " [9.5818579e-01]\n",
            " [1.4901292e-01]\n",
            " [9.4795817e-01]\n",
            " [9.7672683e-01]\n",
            " [9.9641013e-01]\n",
            " [9.9885756e-01]\n",
            " [3.8309873e-04]\n",
            " [9.9610877e-01]\n",
            " [9.9581641e-01]\n",
            " [9.0622854e-01]\n",
            " [9.2581308e-01]\n",
            " [9.3683279e-01]\n",
            " [6.1479706e-01]\n",
            " [9.7774166e-01]\n",
            " [9.4389522e-01]\n",
            " [9.6356797e-01]\n",
            " [6.6625756e-01]\n",
            " [5.4395407e-01]\n",
            " [9.9913019e-01]\n",
            " [5.7902781e-04]\n",
            " [3.1133279e-02]\n",
            " [9.5531875e-01]\n",
            " [5.1075649e-01]\n",
            " [1.0601925e-02]\n",
            " [9.8859298e-01]\n",
            " [1.1596567e-05]\n",
            " [1.7214518e-03]\n",
            " [5.5135451e-03]\n",
            " [9.9953192e-01]\n",
            " [4.2707499e-02]\n",
            " [9.8927075e-01]\n",
            " [1.2197557e-02]\n",
            " [4.9293691e-01]\n",
            " [5.2109519e-03]\n",
            " [1.0344618e-03]\n",
            " [9.5720166e-01]\n",
            " [4.5246660e-04]\n",
            " [3.2978352e-02]\n",
            " [8.0795103e-01]\n",
            " [9.1458780e-01]\n",
            " [9.3917191e-01]\n",
            " [9.6812981e-01]\n",
            " [4.2297173e-02]\n",
            " [9.9989039e-01]\n",
            " [2.3580749e-02]\n",
            " [7.7172223e-04]\n",
            " [7.7629328e-01]\n",
            " [5.7027484e-03]\n",
            " [6.0841892e-02]\n",
            " [9.9519318e-01]\n",
            " [4.8825974e-03]\n",
            " [3.4704346e-05]\n",
            " [9.9613661e-01]\n",
            " [9.3742925e-01]\n",
            " [4.8203641e-04]\n",
            " [4.9861732e-01]\n",
            " [9.9572891e-01]\n",
            " [9.0119922e-01]\n",
            " [9.5917851e-01]\n",
            " [9.9831772e-01]\n",
            " [9.8922455e-01]\n",
            " [9.8830533e-01]\n",
            " [8.7430066e-01]\n",
            " [9.8620105e-01]\n",
            " [9.9094719e-01]\n",
            " [9.9673736e-01]]\n"
          ]
        }
      ]
    },
    {
      "cell_type": "code",
      "source": [
        "# round to get the actual predictions\n",
        "# Note: has to be flattened since the targets are size (N,) while the predictions are size (N,1)\n",
        "import numpy as np\n",
        "P = np.round(P).flatten()\n",
        "print(P)"
      ],
      "metadata": {
        "colab": {
          "base_uri": "https://localhost:8080/"
        },
        "id": "hlFHdSTPQlaK",
        "outputId": "166f5202-1b47-45ca-a047-d368d9fca9c5"
      },
      "execution_count": 24,
      "outputs": [
        {
          "output_type": "stream",
          "name": "stdout",
          "text": [
            "[1. 0. 0. 1. 0. 1. 1. 0. 0. 0. 1. 1. 1. 1. 0. 1. 1. 0. 1. 1. 1. 1. 1. 1.\n",
            " 0. 1. 1. 1. 0. 0. 1. 0. 1. 0. 1. 1. 1. 0. 1. 0. 1. 1. 1. 1. 1. 1. 0. 1.\n",
            " 0. 0. 1. 1. 0. 1. 0. 1. 1. 1. 0. 1. 0. 1. 0. 0. 1. 0. 1. 0. 1. 1. 1. 1.\n",
            " 1. 1. 0. 1. 0. 1. 0. 0. 1. 0. 0. 0. 1. 1. 1. 0. 0. 0. 0. 1. 1. 1. 0. 0.\n",
            " 1. 1. 0. 1. 0. 1. 1. 1. 1. 1. 1. 1. 0. 0. 0. 1. 0. 0. 0. 1. 0. 0. 0. 0.\n",
            " 1. 0. 1. 0. 1. 1. 1. 1. 0. 1. 1. 1. 1. 1. 1. 1. 1. 1. 1. 1. 1. 0. 0. 1.\n",
            " 1. 0. 1. 0. 0. 0. 1. 0. 1. 0. 0. 0. 0. 1. 0. 0. 1. 1. 1. 1. 0. 1. 0. 0.\n",
            " 1. 0. 0. 1. 0. 0. 1. 1. 0. 0. 1. 1. 1. 1. 1. 1. 1. 1. 1. 1.]\n"
          ]
        }
      ]
    },
    {
      "cell_type": "code",
      "source": [
        "# calculate the accuracy, compare it to evaluate() output\n",
        "print(\"Manually calculated accuracy:\", np.mean(P == y_test))\n",
        "print(\"Evaluate output:\", model.evaluate(X_test, y_test))"
      ],
      "metadata": {
        "colab": {
          "base_uri": "https://localhost:8080/"
        },
        "id": "ZU1ooU-xREQ8",
        "outputId": "2b156980-edc2-4501-86b3-c59466547e30"
      },
      "execution_count": 25,
      "outputs": [
        {
          "output_type": "stream",
          "name": "stdout",
          "text": [
            "Manually calculated accuracy: 0.9627659574468085\n",
            "6/6 [==============================] - 0s 4ms/step - loss: 0.1129 - accuracy: 0.9628\n",
            "Evaluate output: [0.11286261677742004, 0.9627659320831299]\n"
          ]
        }
      ]
    },
    {
      "cell_type": "code",
      "source": [],
      "metadata": {
        "id": "gXajBWW6Rfnd"
      },
      "execution_count": null,
      "outputs": []
    }
  ]
}