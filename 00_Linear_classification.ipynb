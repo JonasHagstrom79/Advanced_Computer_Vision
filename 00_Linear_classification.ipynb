{
  "nbformat": 4,
  "nbformat_minor": 0,
  "metadata": {
    "colab": {
      "provenance": [],
      "authorship_tag": "ABX9TyPWF9a/cIFvVJFWIfonuLMx"
    },
    "kernelspec": {
      "name": "python3",
      "display_name": "Python 3"
    },
    "language_info": {
      "name": "python"
    }
  },
  "cells": [
    {
      "cell_type": "code",
      "execution_count": 26,
      "metadata": {
        "id": "pOonvUFGdZpY"
      },
      "outputs": [],
      "source": [
        "import tensorflow as tf"
      ]
    },
    {
      "cell_type": "code",
      "source": [
        "# load in the data\n",
        "from sklearn.datasets import load_breast_cancer"
      ],
      "metadata": {
        "id": "XwfPgaLAd7SC"
      },
      "execution_count": 27,
      "outputs": []
    },
    {
      "cell_type": "code",
      "source": [
        "data = load_breast_cancer()"
      ],
      "metadata": {
        "id": "I4_QzDTUeq6d"
      },
      "execution_count": 28,
      "outputs": []
    },
    {
      "cell_type": "code",
      "source": [
        "data"
      ],
      "metadata": {
        "colab": {
          "base_uri": "https://localhost:8080/"
        },
        "id": "Mqn3Ig8sexnZ",
        "outputId": "8672153e-d0e4-4f4b-a262-4d1bf026a6be"
      },
      "execution_count": 29,
      "outputs": [
        {
          "output_type": "execute_result",
          "data": {
            "text/plain": [
              "{'data': array([[1.799e+01, 1.038e+01, 1.228e+02, ..., 2.654e-01, 4.601e-01,\n",
              "         1.189e-01],\n",
              "        [2.057e+01, 1.777e+01, 1.329e+02, ..., 1.860e-01, 2.750e-01,\n",
              "         8.902e-02],\n",
              "        [1.969e+01, 2.125e+01, 1.300e+02, ..., 2.430e-01, 3.613e-01,\n",
              "         8.758e-02],\n",
              "        ...,\n",
              "        [1.660e+01, 2.808e+01, 1.083e+02, ..., 1.418e-01, 2.218e-01,\n",
              "         7.820e-02],\n",
              "        [2.060e+01, 2.933e+01, 1.401e+02, ..., 2.650e-01, 4.087e-01,\n",
              "         1.240e-01],\n",
              "        [7.760e+00, 2.454e+01, 4.792e+01, ..., 0.000e+00, 2.871e-01,\n",
              "         7.039e-02]]),\n",
              " 'target': array([0, 0, 0, 0, 0, 0, 0, 0, 0, 0, 0, 0, 0, 0, 0, 0, 0, 0, 0, 1, 1, 1,\n",
              "        0, 0, 0, 0, 0, 0, 0, 0, 0, 0, 0, 0, 0, 0, 0, 1, 0, 0, 0, 0, 0, 0,\n",
              "        0, 0, 1, 0, 1, 1, 1, 1, 1, 0, 0, 1, 0, 0, 1, 1, 1, 1, 0, 1, 0, 0,\n",
              "        1, 1, 1, 1, 0, 1, 0, 0, 1, 0, 1, 0, 0, 1, 1, 1, 0, 0, 1, 0, 0, 0,\n",
              "        1, 1, 1, 0, 1, 1, 0, 0, 1, 1, 1, 0, 0, 1, 1, 1, 1, 0, 1, 1, 0, 1,\n",
              "        1, 1, 1, 1, 1, 1, 1, 0, 0, 0, 1, 0, 0, 1, 1, 1, 0, 0, 1, 0, 1, 0,\n",
              "        0, 1, 0, 0, 1, 1, 0, 1, 1, 0, 1, 1, 1, 1, 0, 1, 1, 1, 1, 1, 1, 1,\n",
              "        1, 1, 0, 1, 1, 1, 1, 0, 0, 1, 0, 1, 1, 0, 0, 1, 1, 0, 0, 1, 1, 1,\n",
              "        1, 0, 1, 1, 0, 0, 0, 1, 0, 1, 0, 1, 1, 1, 0, 1, 1, 0, 0, 1, 0, 0,\n",
              "        0, 0, 1, 0, 0, 0, 1, 0, 1, 0, 1, 1, 0, 1, 0, 0, 0, 0, 1, 1, 0, 0,\n",
              "        1, 1, 1, 0, 1, 1, 1, 1, 1, 0, 0, 1, 1, 0, 1, 1, 0, 0, 1, 0, 1, 1,\n",
              "        1, 1, 0, 1, 1, 1, 1, 1, 0, 1, 0, 0, 0, 0, 0, 0, 0, 0, 0, 0, 0, 0,\n",
              "        0, 0, 1, 1, 1, 1, 1, 1, 0, 1, 0, 1, 1, 0, 1, 1, 0, 1, 0, 0, 1, 1,\n",
              "        1, 1, 1, 1, 1, 1, 1, 1, 1, 1, 1, 0, 1, 1, 0, 1, 0, 1, 1, 1, 1, 1,\n",
              "        1, 1, 1, 1, 1, 1, 1, 1, 1, 0, 1, 1, 1, 0, 1, 0, 1, 1, 1, 1, 0, 0,\n",
              "        0, 1, 1, 1, 1, 0, 1, 0, 1, 0, 1, 1, 1, 0, 1, 1, 1, 1, 1, 1, 1, 0,\n",
              "        0, 0, 1, 1, 1, 1, 1, 1, 1, 1, 1, 1, 1, 0, 0, 1, 0, 0, 0, 1, 0, 0,\n",
              "        1, 1, 1, 1, 1, 0, 1, 1, 1, 1, 1, 0, 1, 1, 1, 0, 1, 1, 0, 0, 1, 1,\n",
              "        1, 1, 1, 1, 0, 1, 1, 1, 1, 1, 1, 1, 0, 1, 1, 1, 1, 1, 0, 1, 1, 0,\n",
              "        1, 1, 1, 1, 1, 1, 1, 1, 1, 1, 1, 1, 0, 1, 0, 0, 1, 0, 1, 1, 1, 1,\n",
              "        1, 0, 1, 1, 0, 1, 0, 1, 1, 0, 1, 0, 1, 1, 1, 1, 1, 1, 1, 1, 0, 0,\n",
              "        1, 1, 1, 1, 1, 1, 0, 1, 1, 1, 1, 1, 1, 1, 1, 1, 1, 0, 1, 1, 1, 1,\n",
              "        1, 1, 1, 0, 1, 0, 1, 1, 0, 1, 1, 1, 1, 1, 0, 0, 1, 0, 1, 0, 1, 1,\n",
              "        1, 1, 1, 0, 1, 1, 0, 1, 0, 1, 0, 0, 1, 1, 1, 0, 1, 1, 1, 1, 1, 1,\n",
              "        1, 1, 1, 1, 1, 0, 1, 0, 0, 1, 1, 1, 1, 1, 1, 1, 1, 1, 1, 1, 1, 1,\n",
              "        1, 1, 1, 1, 1, 1, 1, 1, 1, 1, 1, 1, 0, 0, 0, 0, 0, 0, 1]),\n",
              " 'frame': None,\n",
              " 'target_names': array(['malignant', 'benign'], dtype='<U9'),\n",
              " 'DESCR': '.. _breast_cancer_dataset:\\n\\nBreast cancer wisconsin (diagnostic) dataset\\n--------------------------------------------\\n\\n**Data Set Characteristics:**\\n\\n    :Number of Instances: 569\\n\\n    :Number of Attributes: 30 numeric, predictive attributes and the class\\n\\n    :Attribute Information:\\n        - radius (mean of distances from center to points on the perimeter)\\n        - texture (standard deviation of gray-scale values)\\n        - perimeter\\n        - area\\n        - smoothness (local variation in radius lengths)\\n        - compactness (perimeter^2 / area - 1.0)\\n        - concavity (severity of concave portions of the contour)\\n        - concave points (number of concave portions of the contour)\\n        - symmetry\\n        - fractal dimension (\"coastline approximation\" - 1)\\n\\n        The mean, standard error, and \"worst\" or largest (mean of the three\\n        worst/largest values) of these features were computed for each image,\\n        resulting in 30 features.  For instance, field 0 is Mean Radius, field\\n        10 is Radius SE, field 20 is Worst Radius.\\n\\n        - class:\\n                - WDBC-Malignant\\n                - WDBC-Benign\\n\\n    :Summary Statistics:\\n\\n    ===================================== ====== ======\\n                                           Min    Max\\n    ===================================== ====== ======\\n    radius (mean):                        6.981  28.11\\n    texture (mean):                       9.71   39.28\\n    perimeter (mean):                     43.79  188.5\\n    area (mean):                          143.5  2501.0\\n    smoothness (mean):                    0.053  0.163\\n    compactness (mean):                   0.019  0.345\\n    concavity (mean):                     0.0    0.427\\n    concave points (mean):                0.0    0.201\\n    symmetry (mean):                      0.106  0.304\\n    fractal dimension (mean):             0.05   0.097\\n    radius (standard error):              0.112  2.873\\n    texture (standard error):             0.36   4.885\\n    perimeter (standard error):           0.757  21.98\\n    area (standard error):                6.802  542.2\\n    smoothness (standard error):          0.002  0.031\\n    compactness (standard error):         0.002  0.135\\n    concavity (standard error):           0.0    0.396\\n    concave points (standard error):      0.0    0.053\\n    symmetry (standard error):            0.008  0.079\\n    fractal dimension (standard error):   0.001  0.03\\n    radius (worst):                       7.93   36.04\\n    texture (worst):                      12.02  49.54\\n    perimeter (worst):                    50.41  251.2\\n    area (worst):                         185.2  4254.0\\n    smoothness (worst):                   0.071  0.223\\n    compactness (worst):                  0.027  1.058\\n    concavity (worst):                    0.0    1.252\\n    concave points (worst):               0.0    0.291\\n    symmetry (worst):                     0.156  0.664\\n    fractal dimension (worst):            0.055  0.208\\n    ===================================== ====== ======\\n\\n    :Missing Attribute Values: None\\n\\n    :Class Distribution: 212 - Malignant, 357 - Benign\\n\\n    :Creator:  Dr. William H. Wolberg, W. Nick Street, Olvi L. Mangasarian\\n\\n    :Donor: Nick Street\\n\\n    :Date: November, 1995\\n\\nThis is a copy of UCI ML Breast Cancer Wisconsin (Diagnostic) datasets.\\nhttps://goo.gl/U2Uwz2\\n\\nFeatures are computed from a digitized image of a fine needle\\naspirate (FNA) of a breast mass.  They describe\\ncharacteristics of the cell nuclei present in the image.\\n\\nSeparating plane described above was obtained using\\nMultisurface Method-Tree (MSM-T) [K. P. Bennett, \"Decision Tree\\nConstruction Via Linear Programming.\" Proceedings of the 4th\\nMidwest Artificial Intelligence and Cognitive Science Society,\\npp. 97-101, 1992], a classification method which uses linear\\nprogramming to construct a decision tree.  Relevant features\\nwere selected using an exhaustive search in the space of 1-4\\nfeatures and 1-3 separating planes.\\n\\nThe actual linear program used to obtain the separating plane\\nin the 3-dimensional space is that described in:\\n[K. P. Bennett and O. L. Mangasarian: \"Robust Linear\\nProgramming Discrimination of Two Linearly Inseparable Sets\",\\nOptimization Methods and Software 1, 1992, 23-34].\\n\\nThis database is also available through the UW CS ftp server:\\n\\nftp ftp.cs.wisc.edu\\ncd math-prog/cpo-dataset/machine-learn/WDBC/\\n\\n.. topic:: References\\n\\n   - W.N. Street, W.H. Wolberg and O.L. Mangasarian. Nuclear feature extraction \\n     for breast tumor diagnosis. IS&T/SPIE 1993 International Symposium on \\n     Electronic Imaging: Science and Technology, volume 1905, pages 861-870,\\n     San Jose, CA, 1993.\\n   - O.L. Mangasarian, W.N. Street and W.H. Wolberg. Breast cancer diagnosis and \\n     prognosis via linear programming. Operations Research, 43(4), pages 570-577, \\n     July-August 1995.\\n   - W.H. Wolberg, W.N. Street, and O.L. Mangasarian. Machine learning techniques\\n     to diagnose breast cancer from fine-needle aspirates. Cancer Letters 77 (1994) \\n     163-171.',\n",
              " 'feature_names': array(['mean radius', 'mean texture', 'mean perimeter', 'mean area',\n",
              "        'mean smoothness', 'mean compactness', 'mean concavity',\n",
              "        'mean concave points', 'mean symmetry', 'mean fractal dimension',\n",
              "        'radius error', 'texture error', 'perimeter error', 'area error',\n",
              "        'smoothness error', 'compactness error', 'concavity error',\n",
              "        'concave points error', 'symmetry error',\n",
              "        'fractal dimension error', 'worst radius', 'worst texture',\n",
              "        'worst perimeter', 'worst area', 'worst smoothness',\n",
              "        'worst compactness', 'worst concavity', 'worst concave points',\n",
              "        'worst symmetry', 'worst fractal dimension'], dtype='<U23'),\n",
              " 'filename': 'breast_cancer.csv',\n",
              " 'data_module': 'sklearn.datasets.data'}"
            ]
          },
          "metadata": {},
          "execution_count": 29
        }
      ]
    },
    {
      "cell_type": "code",
      "source": [
        "type(data)"
      ],
      "metadata": {
        "colab": {
          "base_uri": "https://localhost:8080/"
        },
        "id": "szEaFmOde0lx",
        "outputId": "505d516d-0e4d-4ed9-f5f9-dbbba52f4d70"
      },
      "execution_count": 30,
      "outputs": [
        {
          "output_type": "execute_result",
          "data": {
            "text/plain": [
              "sklearn.utils._bunch.Bunch"
            ]
          },
          "metadata": {},
          "execution_count": 30
        }
      ]
    },
    {
      "cell_type": "code",
      "source": [
        "data.keys()"
      ],
      "metadata": {
        "colab": {
          "base_uri": "https://localhost:8080/"
        },
        "id": "6P9Dh8b1e7x-",
        "outputId": "6fa825f7-473b-46a7-86d8-4d5d29ca49df"
      },
      "execution_count": 31,
      "outputs": [
        {
          "output_type": "execute_result",
          "data": {
            "text/plain": [
              "dict_keys(['data', 'target', 'frame', 'target_names', 'DESCR', 'feature_names', 'filename', 'data_module'])"
            ]
          },
          "metadata": {},
          "execution_count": 31
        }
      ]
    },
    {
      "cell_type": "code",
      "source": [
        "data.data"
      ],
      "metadata": {
        "colab": {
          "base_uri": "https://localhost:8080/"
        },
        "id": "-aSU2xDte_f6",
        "outputId": "4277aa15-4a99-4333-ebb8-f7c44c162c00"
      },
      "execution_count": 32,
      "outputs": [
        {
          "output_type": "execute_result",
          "data": {
            "text/plain": [
              "array([[1.799e+01, 1.038e+01, 1.228e+02, ..., 2.654e-01, 4.601e-01,\n",
              "        1.189e-01],\n",
              "       [2.057e+01, 1.777e+01, 1.329e+02, ..., 1.860e-01, 2.750e-01,\n",
              "        8.902e-02],\n",
              "       [1.969e+01, 2.125e+01, 1.300e+02, ..., 2.430e-01, 3.613e-01,\n",
              "        8.758e-02],\n",
              "       ...,\n",
              "       [1.660e+01, 2.808e+01, 1.083e+02, ..., 1.418e-01, 2.218e-01,\n",
              "        7.820e-02],\n",
              "       [2.060e+01, 2.933e+01, 1.401e+02, ..., 2.650e-01, 4.087e-01,\n",
              "        1.240e-01],\n",
              "       [7.760e+00, 2.454e+01, 4.792e+01, ..., 0.000e+00, 2.871e-01,\n",
              "        7.039e-02]])"
            ]
          },
          "metadata": {},
          "execution_count": 32
        }
      ]
    },
    {
      "cell_type": "code",
      "source": [
        "data.data.shape"
      ],
      "metadata": {
        "colab": {
          "base_uri": "https://localhost:8080/"
        },
        "id": "6QoG7wCjfvJl",
        "outputId": "da873c4e-1bd1-42e9-e840-cb84ff421f2c"
      },
      "execution_count": 33,
      "outputs": [
        {
          "output_type": "execute_result",
          "data": {
            "text/plain": [
              "(569, 30)"
            ]
          },
          "metadata": {},
          "execution_count": 33
        }
      ]
    },
    {
      "cell_type": "code",
      "source": [
        "# 0 & 1, this is a binary classification problem\n",
        "data.target"
      ],
      "metadata": {
        "colab": {
          "base_uri": "https://localhost:8080/"
        },
        "id": "gWbeHRihfz95",
        "outputId": "b8cf7f81-f21b-4842-e264-71699b9ec8b8"
      },
      "execution_count": 34,
      "outputs": [
        {
          "output_type": "execute_result",
          "data": {
            "text/plain": [
              "array([0, 0, 0, 0, 0, 0, 0, 0, 0, 0, 0, 0, 0, 0, 0, 0, 0, 0, 0, 1, 1, 1,\n",
              "       0, 0, 0, 0, 0, 0, 0, 0, 0, 0, 0, 0, 0, 0, 0, 1, 0, 0, 0, 0, 0, 0,\n",
              "       0, 0, 1, 0, 1, 1, 1, 1, 1, 0, 0, 1, 0, 0, 1, 1, 1, 1, 0, 1, 0, 0,\n",
              "       1, 1, 1, 1, 0, 1, 0, 0, 1, 0, 1, 0, 0, 1, 1, 1, 0, 0, 1, 0, 0, 0,\n",
              "       1, 1, 1, 0, 1, 1, 0, 0, 1, 1, 1, 0, 0, 1, 1, 1, 1, 0, 1, 1, 0, 1,\n",
              "       1, 1, 1, 1, 1, 1, 1, 0, 0, 0, 1, 0, 0, 1, 1, 1, 0, 0, 1, 0, 1, 0,\n",
              "       0, 1, 0, 0, 1, 1, 0, 1, 1, 0, 1, 1, 1, 1, 0, 1, 1, 1, 1, 1, 1, 1,\n",
              "       1, 1, 0, 1, 1, 1, 1, 0, 0, 1, 0, 1, 1, 0, 0, 1, 1, 0, 0, 1, 1, 1,\n",
              "       1, 0, 1, 1, 0, 0, 0, 1, 0, 1, 0, 1, 1, 1, 0, 1, 1, 0, 0, 1, 0, 0,\n",
              "       0, 0, 1, 0, 0, 0, 1, 0, 1, 0, 1, 1, 0, 1, 0, 0, 0, 0, 1, 1, 0, 0,\n",
              "       1, 1, 1, 0, 1, 1, 1, 1, 1, 0, 0, 1, 1, 0, 1, 1, 0, 0, 1, 0, 1, 1,\n",
              "       1, 1, 0, 1, 1, 1, 1, 1, 0, 1, 0, 0, 0, 0, 0, 0, 0, 0, 0, 0, 0, 0,\n",
              "       0, 0, 1, 1, 1, 1, 1, 1, 0, 1, 0, 1, 1, 0, 1, 1, 0, 1, 0, 0, 1, 1,\n",
              "       1, 1, 1, 1, 1, 1, 1, 1, 1, 1, 1, 0, 1, 1, 0, 1, 0, 1, 1, 1, 1, 1,\n",
              "       1, 1, 1, 1, 1, 1, 1, 1, 1, 0, 1, 1, 1, 0, 1, 0, 1, 1, 1, 1, 0, 0,\n",
              "       0, 1, 1, 1, 1, 0, 1, 0, 1, 0, 1, 1, 1, 0, 1, 1, 1, 1, 1, 1, 1, 0,\n",
              "       0, 0, 1, 1, 1, 1, 1, 1, 1, 1, 1, 1, 1, 0, 0, 1, 0, 0, 0, 1, 0, 0,\n",
              "       1, 1, 1, 1, 1, 0, 1, 1, 1, 1, 1, 0, 1, 1, 1, 0, 1, 1, 0, 0, 1, 1,\n",
              "       1, 1, 1, 1, 0, 1, 1, 1, 1, 1, 1, 1, 0, 1, 1, 1, 1, 1, 0, 1, 1, 0,\n",
              "       1, 1, 1, 1, 1, 1, 1, 1, 1, 1, 1, 1, 0, 1, 0, 0, 1, 0, 1, 1, 1, 1,\n",
              "       1, 0, 1, 1, 0, 1, 0, 1, 1, 0, 1, 0, 1, 1, 1, 1, 1, 1, 1, 1, 0, 0,\n",
              "       1, 1, 1, 1, 1, 1, 0, 1, 1, 1, 1, 1, 1, 1, 1, 1, 1, 0, 1, 1, 1, 1,\n",
              "       1, 1, 1, 0, 1, 0, 1, 1, 0, 1, 1, 1, 1, 1, 0, 0, 1, 0, 1, 0, 1, 1,\n",
              "       1, 1, 1, 0, 1, 1, 0, 1, 0, 1, 0, 0, 1, 1, 1, 0, 1, 1, 1, 1, 1, 1,\n",
              "       1, 1, 1, 1, 1, 0, 1, 0, 0, 1, 1, 1, 1, 1, 1, 1, 1, 1, 1, 1, 1, 1,\n",
              "       1, 1, 1, 1, 1, 1, 1, 1, 1, 1, 1, 1, 0, 0, 0, 0, 0, 0, 1])"
            ]
          },
          "metadata": {},
          "execution_count": 34
        }
      ]
    },
    {
      "cell_type": "code",
      "source": [
        "# The two classes, what is 0 & 1?\n",
        "data.target_names"
      ],
      "metadata": {
        "colab": {
          "base_uri": "https://localhost:8080/"
        },
        "id": "8k0oCiz3f3L2",
        "outputId": "f7e89b30-a47f-439a-d592-0ac77462730b"
      },
      "execution_count": 35,
      "outputs": [
        {
          "output_type": "execute_result",
          "data": {
            "text/plain": [
              "array(['malignant', 'benign'], dtype='<U9')"
            ]
          },
          "metadata": {},
          "execution_count": 35
        }
      ]
    },
    {
      "cell_type": "code",
      "source": [
        "# check the shape of the target array (569 targets)\n",
        "data.target.shape"
      ],
      "metadata": {
        "colab": {
          "base_uri": "https://localhost:8080/"
        },
        "id": "ulnldBbtgZdg",
        "outputId": "7be8a0db-b83b-474b-b379-aaaf7c4bbe68"
      },
      "execution_count": 36,
      "outputs": [
        {
          "output_type": "execute_result",
          "data": {
            "text/plain": [
              "(569,)"
            ]
          },
          "metadata": {},
          "execution_count": 36
        }
      ]
    },
    {
      "cell_type": "code",
      "source": [
        "# check the features (What the colums mean)\n",
        "data.feature_names"
      ],
      "metadata": {
        "colab": {
          "base_uri": "https://localhost:8080/"
        },
        "id": "K35VE3o3gqa1",
        "outputId": "2e681194-99e7-41bf-e695-24dbe26c2520"
      },
      "execution_count": 37,
      "outputs": [
        {
          "output_type": "execute_result",
          "data": {
            "text/plain": [
              "array(['mean radius', 'mean texture', 'mean perimeter', 'mean area',\n",
              "       'mean smoothness', 'mean compactness', 'mean concavity',\n",
              "       'mean concave points', 'mean symmetry', 'mean fractal dimension',\n",
              "       'radius error', 'texture error', 'perimeter error', 'area error',\n",
              "       'smoothness error', 'compactness error', 'concavity error',\n",
              "       'concave points error', 'symmetry error',\n",
              "       'fractal dimension error', 'worst radius', 'worst texture',\n",
              "       'worst perimeter', 'worst area', 'worst smoothness',\n",
              "       'worst compactness', 'worst concavity', 'worst concave points',\n",
              "       'worst symmetry', 'worst fractal dimension'], dtype='<U23')"
            ]
          },
          "metadata": {},
          "execution_count": 37
        }
      ]
    },
    {
      "cell_type": "code",
      "source": [
        "# train test split\n",
        "from sklearn.model_selection import train_test_split\n",
        "\n",
        "X_train, X_test, y_train, y_test = train_test_split(\n",
        "    data.data, data.target, test_size=0.33)"
      ],
      "metadata": {
        "id": "5mCwXvfKhBZ0"
      },
      "execution_count": 38,
      "outputs": []
    },
    {
      "cell_type": "code",
      "source": [
        "# get the shape of X_train\n",
        "N, D = X_train.shape"
      ],
      "metadata": {
        "id": "hbi-QLC9hlv_"
      },
      "execution_count": 39,
      "outputs": []
    },
    {
      "cell_type": "code",
      "source": [
        "# check out N, D\n",
        "N, D"
      ],
      "metadata": {
        "colab": {
          "base_uri": "https://localhost:8080/"
        },
        "id": "7Jr-PrYeh2Qq",
        "outputId": "be077d6c-9b69-496c-ecb9-4b7b9e22038c"
      },
      "execution_count": 40,
      "outputs": [
        {
          "output_type": "execute_result",
          "data": {
            "text/plain": [
              "(381, 30)"
            ]
          },
          "metadata": {},
          "execution_count": 40
        }
      ]
    },
    {
      "cell_type": "code",
      "source": [
        "# preprocess the data by scaling it\n",
        "from sklearn.preprocessing import StandardScaler\n",
        "\n",
        "# crate a standart scaler object\n",
        "scaler = StandardScaler()\n",
        "# call fit_transform(does fit & transform in one step) on the train set\n",
        "X_train = scaler.fit_transform(X_train)\n",
        "# call transform on the test set\n",
        "X_test = scaler.transform(X_test)"
      ],
      "metadata": {
        "id": "RNC3ax49h-iF"
      },
      "execution_count": 41,
      "outputs": []
    },
    {
      "cell_type": "code",
      "source": [
        "# creata a model object\n",
        "model = tf.keras.models.Sequential([\n",
        "    tf.keras.layers.Input(shape=(D)),\n",
        "    tf.keras.layers.Dense(1, activation='sigmoid') #\n",
        "])"
      ],
      "metadata": {
        "id": "GBT3DrWVjKdN"
      },
      "execution_count": 42,
      "outputs": []
    },
    {
      "cell_type": "code",
      "source": [
        "# compile the model\n",
        "model.compile(optimizer='adam',\n",
        "              loss='binary_crossentropy', # goes with sigoid wich goes with binary classification\n",
        "              metrics=['accuracy'])"
      ],
      "metadata": {
        "id": "ZlfzoX8Wj0eO"
      },
      "execution_count": 43,
      "outputs": []
    },
    {
      "cell_type": "code",
      "source": [
        "# train the model\n",
        "r = model.fit(X_train, y_train, validation_data=(X_test, y_test), epochs=100)"
      ],
      "metadata": {
        "colab": {
          "base_uri": "https://localhost:8080/"
        },
        "id": "vWgj_RAakgY6",
        "outputId": "93b5e6fe-2702-47b4-c041-b21af6d4d997"
      },
      "execution_count": 44,
      "outputs": [
        {
          "output_type": "stream",
          "name": "stdout",
          "text": [
            "Epoch 1/100\n",
            "12/12 [==============================] - 3s 103ms/step - loss: 0.5756 - accuracy: 0.7428 - val_loss: 0.5202 - val_accuracy: 0.8138\n",
            "Epoch 2/100\n",
            "12/12 [==============================] - 0s 17ms/step - loss: 0.5284 - accuracy: 0.7848 - val_loss: 0.4705 - val_accuracy: 0.8404\n",
            "Epoch 3/100\n",
            "12/12 [==============================] - 0s 27ms/step - loss: 0.4866 - accuracy: 0.8268 - val_loss: 0.4291 - val_accuracy: 0.8777\n",
            "Epoch 4/100\n",
            "12/12 [==============================] - 0s 13ms/step - loss: 0.4525 - accuracy: 0.8478 - val_loss: 0.3932 - val_accuracy: 0.8936\n",
            "Epoch 5/100\n",
            "12/12 [==============================] - 0s 13ms/step - loss: 0.4227 - accuracy: 0.8556 - val_loss: 0.3622 - val_accuracy: 0.9202\n",
            "Epoch 6/100\n",
            "12/12 [==============================] - 0s 11ms/step - loss: 0.3966 - accuracy: 0.8714 - val_loss: 0.3364 - val_accuracy: 0.9255\n",
            "Epoch 7/100\n",
            "12/12 [==============================] - 0s 14ms/step - loss: 0.3736 - accuracy: 0.8819 - val_loss: 0.3147 - val_accuracy: 0.9362\n",
            "Epoch 8/100\n",
            "12/12 [==============================] - 0s 9ms/step - loss: 0.3543 - accuracy: 0.8871 - val_loss: 0.2955 - val_accuracy: 0.9362\n",
            "Epoch 9/100\n",
            "12/12 [==============================] - 0s 12ms/step - loss: 0.3364 - accuracy: 0.8924 - val_loss: 0.2787 - val_accuracy: 0.9468\n",
            "Epoch 10/100\n",
            "12/12 [==============================] - 0s 14ms/step - loss: 0.3209 - accuracy: 0.9029 - val_loss: 0.2639 - val_accuracy: 0.9468\n",
            "Epoch 11/100\n",
            "12/12 [==============================] - 0s 16ms/step - loss: 0.3067 - accuracy: 0.9081 - val_loss: 0.2507 - val_accuracy: 0.9468\n",
            "Epoch 12/100\n",
            "12/12 [==============================] - 0s 15ms/step - loss: 0.2938 - accuracy: 0.9108 - val_loss: 0.2391 - val_accuracy: 0.9468\n",
            "Epoch 13/100\n",
            "12/12 [==============================] - 0s 23ms/step - loss: 0.2824 - accuracy: 0.9213 - val_loss: 0.2286 - val_accuracy: 0.9468\n",
            "Epoch 14/100\n",
            "12/12 [==============================] - 0s 21ms/step - loss: 0.2718 - accuracy: 0.9239 - val_loss: 0.2191 - val_accuracy: 0.9521\n",
            "Epoch 15/100\n",
            "12/12 [==============================] - 0s 16ms/step - loss: 0.2621 - accuracy: 0.9318 - val_loss: 0.2108 - val_accuracy: 0.9521\n",
            "Epoch 16/100\n",
            "12/12 [==============================] - 0s 16ms/step - loss: 0.2533 - accuracy: 0.9344 - val_loss: 0.2030 - val_accuracy: 0.9521\n",
            "Epoch 17/100\n",
            "12/12 [==============================] - 0s 13ms/step - loss: 0.2451 - accuracy: 0.9396 - val_loss: 0.1959 - val_accuracy: 0.9521\n",
            "Epoch 18/100\n",
            "12/12 [==============================] - 0s 10ms/step - loss: 0.2376 - accuracy: 0.9423 - val_loss: 0.1894 - val_accuracy: 0.9521\n",
            "Epoch 19/100\n",
            "12/12 [==============================] - 0s 20ms/step - loss: 0.2307 - accuracy: 0.9423 - val_loss: 0.1834 - val_accuracy: 0.9521\n",
            "Epoch 20/100\n",
            "12/12 [==============================] - 0s 11ms/step - loss: 0.2239 - accuracy: 0.9449 - val_loss: 0.1780 - val_accuracy: 0.9574\n",
            "Epoch 21/100\n",
            "12/12 [==============================] - 0s 19ms/step - loss: 0.2180 - accuracy: 0.9449 - val_loss: 0.1728 - val_accuracy: 0.9628\n",
            "Epoch 22/100\n",
            "12/12 [==============================] - 0s 23ms/step - loss: 0.2125 - accuracy: 0.9449 - val_loss: 0.1680 - val_accuracy: 0.9628\n",
            "Epoch 23/100\n",
            "12/12 [==============================] - 0s 17ms/step - loss: 0.2070 - accuracy: 0.9449 - val_loss: 0.1638 - val_accuracy: 0.9628\n",
            "Epoch 24/100\n",
            "12/12 [==============================] - 0s 15ms/step - loss: 0.2024 - accuracy: 0.9475 - val_loss: 0.1596 - val_accuracy: 0.9681\n",
            "Epoch 25/100\n",
            "12/12 [==============================] - 0s 7ms/step - loss: 0.1973 - accuracy: 0.9475 - val_loss: 0.1558 - val_accuracy: 0.9681\n",
            "Epoch 26/100\n",
            "12/12 [==============================] - 0s 5ms/step - loss: 0.1931 - accuracy: 0.9475 - val_loss: 0.1522 - val_accuracy: 0.9681\n",
            "Epoch 27/100\n",
            "12/12 [==============================] - 0s 13ms/step - loss: 0.1890 - accuracy: 0.9475 - val_loss: 0.1487 - val_accuracy: 0.9681\n",
            "Epoch 28/100\n",
            "12/12 [==============================] - 0s 16ms/step - loss: 0.1852 - accuracy: 0.9475 - val_loss: 0.1456 - val_accuracy: 0.9681\n",
            "Epoch 29/100\n",
            "12/12 [==============================] - 0s 11ms/step - loss: 0.1814 - accuracy: 0.9501 - val_loss: 0.1426 - val_accuracy: 0.9681\n",
            "Epoch 30/100\n",
            "12/12 [==============================] - 0s 9ms/step - loss: 0.1780 - accuracy: 0.9501 - val_loss: 0.1397 - val_accuracy: 0.9734\n",
            "Epoch 31/100\n",
            "12/12 [==============================] - 0s 12ms/step - loss: 0.1746 - accuracy: 0.9528 - val_loss: 0.1371 - val_accuracy: 0.9734\n",
            "Epoch 32/100\n",
            "12/12 [==============================] - 0s 10ms/step - loss: 0.1715 - accuracy: 0.9554 - val_loss: 0.1345 - val_accuracy: 0.9734\n",
            "Epoch 33/100\n",
            "12/12 [==============================] - 0s 13ms/step - loss: 0.1686 - accuracy: 0.9580 - val_loss: 0.1321 - val_accuracy: 0.9734\n",
            "Epoch 34/100\n",
            "12/12 [==============================] - 0s 11ms/step - loss: 0.1658 - accuracy: 0.9580 - val_loss: 0.1298 - val_accuracy: 0.9734\n",
            "Epoch 35/100\n",
            "12/12 [==============================] - 0s 22ms/step - loss: 0.1631 - accuracy: 0.9580 - val_loss: 0.1276 - val_accuracy: 0.9734\n",
            "Epoch 36/100\n",
            "12/12 [==============================] - 0s 16ms/step - loss: 0.1605 - accuracy: 0.9580 - val_loss: 0.1255 - val_accuracy: 0.9734\n",
            "Epoch 37/100\n",
            "12/12 [==============================] - 0s 7ms/step - loss: 0.1581 - accuracy: 0.9580 - val_loss: 0.1236 - val_accuracy: 0.9734\n",
            "Epoch 38/100\n",
            "12/12 [==============================] - 0s 6ms/step - loss: 0.1558 - accuracy: 0.9580 - val_loss: 0.1217 - val_accuracy: 0.9734\n",
            "Epoch 39/100\n",
            "12/12 [==============================] - 0s 7ms/step - loss: 0.1535 - accuracy: 0.9580 - val_loss: 0.1199 - val_accuracy: 0.9734\n",
            "Epoch 40/100\n",
            "12/12 [==============================] - 0s 16ms/step - loss: 0.1514 - accuracy: 0.9633 - val_loss: 0.1182 - val_accuracy: 0.9734\n",
            "Epoch 41/100\n",
            "12/12 [==============================] - 0s 11ms/step - loss: 0.1494 - accuracy: 0.9633 - val_loss: 0.1165 - val_accuracy: 0.9734\n",
            "Epoch 42/100\n",
            "12/12 [==============================] - 0s 6ms/step - loss: 0.1474 - accuracy: 0.9606 - val_loss: 0.1148 - val_accuracy: 0.9734\n",
            "Epoch 43/100\n",
            "12/12 [==============================] - 0s 6ms/step - loss: 0.1455 - accuracy: 0.9606 - val_loss: 0.1133 - val_accuracy: 0.9787\n",
            "Epoch 44/100\n",
            "12/12 [==============================] - 0s 14ms/step - loss: 0.1437 - accuracy: 0.9606 - val_loss: 0.1118 - val_accuracy: 0.9840\n",
            "Epoch 45/100\n",
            "12/12 [==============================] - 0s 12ms/step - loss: 0.1419 - accuracy: 0.9606 - val_loss: 0.1104 - val_accuracy: 0.9840\n",
            "Epoch 46/100\n",
            "12/12 [==============================] - 0s 6ms/step - loss: 0.1403 - accuracy: 0.9633 - val_loss: 0.1091 - val_accuracy: 0.9840\n",
            "Epoch 47/100\n",
            "12/12 [==============================] - 0s 5ms/step - loss: 0.1386 - accuracy: 0.9633 - val_loss: 0.1078 - val_accuracy: 0.9840\n",
            "Epoch 48/100\n",
            "12/12 [==============================] - 0s 16ms/step - loss: 0.1372 - accuracy: 0.9633 - val_loss: 0.1066 - val_accuracy: 0.9840\n",
            "Epoch 49/100\n",
            "12/12 [==============================] - 0s 7ms/step - loss: 0.1355 - accuracy: 0.9606 - val_loss: 0.1053 - val_accuracy: 0.9840\n",
            "Epoch 50/100\n",
            "12/12 [==============================] - 0s 6ms/step - loss: 0.1341 - accuracy: 0.9633 - val_loss: 0.1042 - val_accuracy: 0.9840\n",
            "Epoch 51/100\n",
            "12/12 [==============================] - 0s 9ms/step - loss: 0.1328 - accuracy: 0.9633 - val_loss: 0.1030 - val_accuracy: 0.9840\n",
            "Epoch 52/100\n",
            "12/12 [==============================] - 0s 14ms/step - loss: 0.1313 - accuracy: 0.9633 - val_loss: 0.1019 - val_accuracy: 0.9840\n",
            "Epoch 53/100\n",
            "12/12 [==============================] - 0s 6ms/step - loss: 0.1300 - accuracy: 0.9606 - val_loss: 0.1009 - val_accuracy: 0.9840\n",
            "Epoch 54/100\n",
            "12/12 [==============================] - 0s 6ms/step - loss: 0.1287 - accuracy: 0.9606 - val_loss: 0.0999 - val_accuracy: 0.9840\n",
            "Epoch 55/100\n",
            "12/12 [==============================] - 0s 6ms/step - loss: 0.1275 - accuracy: 0.9633 - val_loss: 0.0990 - val_accuracy: 0.9840\n",
            "Epoch 56/100\n",
            "12/12 [==============================] - 0s 6ms/step - loss: 0.1263 - accuracy: 0.9633 - val_loss: 0.0979 - val_accuracy: 0.9840\n",
            "Epoch 57/100\n",
            "12/12 [==============================] - 0s 6ms/step - loss: 0.1252 - accuracy: 0.9633 - val_loss: 0.0970 - val_accuracy: 0.9840\n",
            "Epoch 58/100\n",
            "12/12 [==============================] - 0s 11ms/step - loss: 0.1240 - accuracy: 0.9659 - val_loss: 0.0961 - val_accuracy: 0.9840\n",
            "Epoch 59/100\n",
            "12/12 [==============================] - 0s 7ms/step - loss: 0.1229 - accuracy: 0.9659 - val_loss: 0.0952 - val_accuracy: 0.9840\n",
            "Epoch 60/100\n",
            "12/12 [==============================] - 0s 6ms/step - loss: 0.1219 - accuracy: 0.9659 - val_loss: 0.0944 - val_accuracy: 0.9840\n",
            "Epoch 61/100\n",
            "12/12 [==============================] - 0s 12ms/step - loss: 0.1208 - accuracy: 0.9685 - val_loss: 0.0936 - val_accuracy: 0.9840\n",
            "Epoch 62/100\n",
            "12/12 [==============================] - 0s 7ms/step - loss: 0.1198 - accuracy: 0.9659 - val_loss: 0.0928 - val_accuracy: 0.9840\n",
            "Epoch 63/100\n",
            "12/12 [==============================] - 0s 7ms/step - loss: 0.1188 - accuracy: 0.9659 - val_loss: 0.0920 - val_accuracy: 0.9840\n",
            "Epoch 64/100\n",
            "12/12 [==============================] - 0s 8ms/step - loss: 0.1179 - accuracy: 0.9685 - val_loss: 0.0913 - val_accuracy: 0.9840\n",
            "Epoch 65/100\n",
            "12/12 [==============================] - 0s 15ms/step - loss: 0.1170 - accuracy: 0.9685 - val_loss: 0.0906 - val_accuracy: 0.9840\n",
            "Epoch 66/100\n",
            "12/12 [==============================] - 0s 9ms/step - loss: 0.1161 - accuracy: 0.9685 - val_loss: 0.0899 - val_accuracy: 0.9840\n",
            "Epoch 67/100\n",
            "12/12 [==============================] - 0s 8ms/step - loss: 0.1152 - accuracy: 0.9685 - val_loss: 0.0892 - val_accuracy: 0.9840\n",
            "Epoch 68/100\n",
            "12/12 [==============================] - 0s 11ms/step - loss: 0.1143 - accuracy: 0.9711 - val_loss: 0.0885 - val_accuracy: 0.9840\n",
            "Epoch 69/100\n",
            "12/12 [==============================] - 0s 16ms/step - loss: 0.1135 - accuracy: 0.9711 - val_loss: 0.0879 - val_accuracy: 0.9840\n",
            "Epoch 70/100\n",
            "12/12 [==============================] - 0s 20ms/step - loss: 0.1127 - accuracy: 0.9711 - val_loss: 0.0872 - val_accuracy: 0.9840\n",
            "Epoch 71/100\n",
            "12/12 [==============================] - 0s 7ms/step - loss: 0.1119 - accuracy: 0.9711 - val_loss: 0.0866 - val_accuracy: 0.9840\n",
            "Epoch 72/100\n",
            "12/12 [==============================] - 0s 8ms/step - loss: 0.1111 - accuracy: 0.9711 - val_loss: 0.0860 - val_accuracy: 0.9840\n",
            "Epoch 73/100\n",
            "12/12 [==============================] - 0s 14ms/step - loss: 0.1103 - accuracy: 0.9711 - val_loss: 0.0854 - val_accuracy: 0.9840\n",
            "Epoch 74/100\n",
            "12/12 [==============================] - 0s 25ms/step - loss: 0.1096 - accuracy: 0.9711 - val_loss: 0.0849 - val_accuracy: 0.9840\n",
            "Epoch 75/100\n",
            "12/12 [==============================] - 0s 12ms/step - loss: 0.1089 - accuracy: 0.9711 - val_loss: 0.0843 - val_accuracy: 0.9840\n",
            "Epoch 76/100\n",
            "12/12 [==============================] - 0s 12ms/step - loss: 0.1082 - accuracy: 0.9711 - val_loss: 0.0837 - val_accuracy: 0.9840\n",
            "Epoch 77/100\n",
            "12/12 [==============================] - 0s 7ms/step - loss: 0.1075 - accuracy: 0.9711 - val_loss: 0.0832 - val_accuracy: 0.9840\n",
            "Epoch 78/100\n",
            "12/12 [==============================] - 0s 12ms/step - loss: 0.1068 - accuracy: 0.9711 - val_loss: 0.0827 - val_accuracy: 0.9840\n",
            "Epoch 79/100\n",
            "12/12 [==============================] - 0s 19ms/step - loss: 0.1062 - accuracy: 0.9711 - val_loss: 0.0822 - val_accuracy: 0.9840\n",
            "Epoch 80/100\n",
            "12/12 [==============================] - 0s 21ms/step - loss: 0.1056 - accuracy: 0.9711 - val_loss: 0.0817 - val_accuracy: 0.9840\n",
            "Epoch 81/100\n",
            "12/12 [==============================] - 0s 24ms/step - loss: 0.1049 - accuracy: 0.9711 - val_loss: 0.0812 - val_accuracy: 0.9840\n",
            "Epoch 82/100\n",
            "12/12 [==============================] - 0s 17ms/step - loss: 0.1043 - accuracy: 0.9711 - val_loss: 0.0808 - val_accuracy: 0.9840\n",
            "Epoch 83/100\n",
            "12/12 [==============================] - 0s 14ms/step - loss: 0.1037 - accuracy: 0.9764 - val_loss: 0.0803 - val_accuracy: 0.9840\n",
            "Epoch 84/100\n",
            "12/12 [==============================] - 0s 10ms/step - loss: 0.1031 - accuracy: 0.9764 - val_loss: 0.0799 - val_accuracy: 0.9840\n",
            "Epoch 85/100\n",
            "12/12 [==============================] - 0s 11ms/step - loss: 0.1025 - accuracy: 0.9764 - val_loss: 0.0794 - val_accuracy: 0.9840\n",
            "Epoch 86/100\n",
            "12/12 [==============================] - 0s 17ms/step - loss: 0.1019 - accuracy: 0.9764 - val_loss: 0.0790 - val_accuracy: 0.9840\n",
            "Epoch 87/100\n",
            "12/12 [==============================] - 0s 22ms/step - loss: 0.1014 - accuracy: 0.9764 - val_loss: 0.0785 - val_accuracy: 0.9840\n",
            "Epoch 88/100\n",
            "12/12 [==============================] - 0s 26ms/step - loss: 0.1009 - accuracy: 0.9764 - val_loss: 0.0781 - val_accuracy: 0.9840\n",
            "Epoch 89/100\n",
            "12/12 [==============================] - 0s 19ms/step - loss: 0.1003 - accuracy: 0.9764 - val_loss: 0.0777 - val_accuracy: 0.9840\n",
            "Epoch 90/100\n",
            "12/12 [==============================] - 0s 15ms/step - loss: 0.0998 - accuracy: 0.9764 - val_loss: 0.0773 - val_accuracy: 0.9840\n",
            "Epoch 91/100\n",
            "12/12 [==============================] - 0s 7ms/step - loss: 0.0993 - accuracy: 0.9764 - val_loss: 0.0769 - val_accuracy: 0.9840\n",
            "Epoch 92/100\n",
            "12/12 [==============================] - 0s 15ms/step - loss: 0.0988 - accuracy: 0.9764 - val_loss: 0.0766 - val_accuracy: 0.9840\n",
            "Epoch 93/100\n",
            "12/12 [==============================] - 0s 27ms/step - loss: 0.0983 - accuracy: 0.9764 - val_loss: 0.0762 - val_accuracy: 0.9840\n",
            "Epoch 94/100\n",
            "12/12 [==============================] - 0s 12ms/step - loss: 0.0978 - accuracy: 0.9764 - val_loss: 0.0758 - val_accuracy: 0.9840\n",
            "Epoch 95/100\n",
            "12/12 [==============================] - 0s 6ms/step - loss: 0.0973 - accuracy: 0.9764 - val_loss: 0.0754 - val_accuracy: 0.9840\n",
            "Epoch 96/100\n",
            "12/12 [==============================] - 0s 9ms/step - loss: 0.0969 - accuracy: 0.9764 - val_loss: 0.0750 - val_accuracy: 0.9840\n",
            "Epoch 97/100\n",
            "12/12 [==============================] - 0s 13ms/step - loss: 0.0964 - accuracy: 0.9764 - val_loss: 0.0747 - val_accuracy: 0.9840\n",
            "Epoch 98/100\n",
            "12/12 [==============================] - 0s 21ms/step - loss: 0.0960 - accuracy: 0.9764 - val_loss: 0.0744 - val_accuracy: 0.9840\n",
            "Epoch 99/100\n",
            "12/12 [==============================] - 0s 17ms/step - loss: 0.0955 - accuracy: 0.9764 - val_loss: 0.0741 - val_accuracy: 0.9840\n",
            "Epoch 100/100\n",
            "12/12 [==============================] - 0s 14ms/step - loss: 0.0951 - accuracy: 0.9764 - val_loss: 0.0738 - val_accuracy: 0.9840\n"
          ]
        }
      ]
    },
    {
      "cell_type": "code",
      "source": [
        "# check the final score, this vill return all the metrics for the data that u pass in\n",
        "print(\"Train score:\", model.evaluate(X_train, y_train))\n",
        "print(\"Test score:\", model.evaluate(X_test, y_test))"
      ],
      "metadata": {
        "colab": {
          "base_uri": "https://localhost:8080/"
        },
        "id": "SJrz8_YBkL6x",
        "outputId": "9ea2fce1-5c32-48b3-a2b5-20eb22695c66"
      },
      "execution_count": 45,
      "outputs": [
        {
          "output_type": "stream",
          "name": "stdout",
          "text": [
            "12/12 [==============================] - 0s 3ms/step - loss: 0.0948 - accuracy: 0.9764\n",
            "Train score: [0.09478785842657089, 0.9763779640197754]\n",
            "6/6 [==============================] - 0s 4ms/step - loss: 0.0738 - accuracy: 0.9840\n",
            "Test score: [0.07380731403827667, 0.9840425252914429]\n"
          ]
        }
      ]
    },
    {
      "cell_type": "code",
      "source": [
        "# plot the loss per epoch\n",
        "import matplotlib.pyplot as plt\n",
        "\n",
        "plt.plot(r.history['loss'], label='loss')\n",
        "plt.plot(r.history['val_loss'], label='val_loss')\n",
        "plt.legend()"
      ],
      "metadata": {
        "colab": {
          "base_uri": "https://localhost:8080/",
          "height": 452
        },
        "id": "IuGZIrlTmInl",
        "outputId": "69dfc2b5-fb8f-439f-b23f-58bdca22a553"
      },
      "execution_count": 46,
      "outputs": [
        {
          "output_type": "execute_result",
          "data": {
            "text/plain": [
              "<matplotlib.legend.Legend at 0x7fca2f43f220>"
            ]
          },
          "metadata": {},
          "execution_count": 46
        },
        {
          "output_type": "display_data",
          "data": {
            "text/plain": [
              "<Figure size 640x480 with 1 Axes>"
            ],
            "image/png": "[encoded data removed]"
          },
          "metadata": {}
        }
      ]
    },
    {
      "cell_type": "code",
      "source": [
        "# plot the accuracy\n",
        "plt.plot(r.history['accuracy'], label='acc')\n",
        "plt.plot(r.history['val_accuracy'], label='val_acc')\n",
        "plt.legend()"
      ],
      "metadata": {
        "colab": {
          "base_uri": "https://localhost:8080/",
          "height": 447
        },
        "id": "7NXOJM5jm0HX",
        "outputId": "94a1f087-c8cf-4b78-989e-59fb6bac7f53"
      },
      "execution_count": 47,
      "outputs": [
        {
          "output_type": "execute_result",
          "data": {
            "text/plain": [
              "<matplotlib.legend.Legend at 0x7fca2f4afb50>"
            ]
          },
          "metadata": {},
          "execution_count": 47
        },
        {
          "output_type": "display_data",
          "data": {
            "text/plain": [
              "<Figure size 640x480 with 1 Axes>"
            ],
            "image/png": "[encoded data removed]"
          },
          "metadata": {}
        }
      ]
    },
    {
      "cell_type": "markdown",
      "source": [
        "# Manual calculation"
      ],
      "metadata": {
        "id": "mL4eQCCbn4g7"
      }
    },
    {
      "cell_type": "code",
      "source": [
        "# Make predictions\n",
        "P = model.predict(X_test)\n",
        "# they are outputs of the sigmoid, interpreted as probabilities p(y = 1 | x)\n",
        "print(P)"
      ],
      "metadata": {
        "colab": {
          "base_uri": "https://localhost:8080/"
        },
        "id": "QrJXZLf_Qiby",
        "outputId": "4e2fec49-13c6-43d5-c93b-8ee8659f48d3"
      },
      "execution_count": 48,
      "outputs": [
        {
          "output_type": "stream",
          "name": "stdout",
          "text": [
            "6/6 [==============================] - 0s 5ms/step\n",
            "[[1.25582519e-04]\n",
            " [9.75912809e-01]\n",
            " [9.99551296e-01]\n",
            " [6.85429608e-04]\n",
            " [9.64630842e-01]\n",
            " [9.19126254e-03]\n",
            " [8.30116682e-04]\n",
            " [9.30701375e-01]\n",
            " [6.04771733e-01]\n",
            " [9.94879246e-01]\n",
            " [1.51957365e-05]\n",
            " [9.99533832e-01]\n",
            " [9.44639623e-01]\n",
            " [7.44604528e-01]\n",
            " [4.59413393e-04]\n",
            " [5.42328432e-02]\n",
            " [9.47570562e-01]\n",
            " [9.83666062e-01]\n",
            " [9.95470583e-01]\n",
            " [9.86208081e-01]\n",
            " [7.72423685e-01]\n",
            " [1.02056963e-02]\n",
            " [8.66654608e-03]\n",
            " [9.92716968e-01]\n",
            " [9.86762583e-01]\n",
            " [9.96170461e-01]\n",
            " [3.08608869e-05]\n",
            " [9.64171588e-01]\n",
            " [8.17286037e-03]\n",
            " [9.97800291e-01]\n",
            " [8.36267412e-01]\n",
            " [9.99869049e-01]\n",
            " [9.98795986e-01]\n",
            " [9.56191838e-01]\n",
            " [9.57378387e-01]\n",
            " [3.08216035e-01]\n",
            " [2.90194809e-01]\n",
            " [1.63152702e-02]\n",
            " [9.78171468e-01]\n",
            " [9.99328673e-01]\n",
            " [9.74416733e-01]\n",
            " [9.91236925e-01]\n",
            " [1.11709442e-03]\n",
            " [1.02977362e-03]\n",
            " [7.32912004e-01]\n",
            " [9.14270222e-01]\n",
            " [9.92548287e-01]\n",
            " [9.98733759e-01]\n",
            " [9.98460591e-01]\n",
            " [4.85189003e-06]\n",
            " [9.95344341e-01]\n",
            " [6.60706818e-01]\n",
            " [9.99907136e-01]\n",
            " [9.93699551e-01]\n",
            " [9.97732878e-01]\n",
            " [2.94088237e-02]\n",
            " [2.37412471e-03]\n",
            " [8.75659049e-01]\n",
            " [9.98471320e-01]\n",
            " [4.93376935e-03]\n",
            " [8.94445181e-01]\n",
            " [9.96746540e-01]\n",
            " [9.98686731e-01]\n",
            " [1.18729775e-04]\n",
            " [9.70108092e-01]\n",
            " [5.13497088e-03]\n",
            " [9.99153376e-01]\n",
            " [9.89966452e-01]\n",
            " [9.46575701e-01]\n",
            " [9.61788058e-01]\n",
            " [9.85083580e-01]\n",
            " [9.88866627e-01]\n",
            " [9.84002948e-01]\n",
            " [9.96332705e-01]\n",
            " [8.49611342e-01]\n",
            " [8.15351773e-03]\n",
            " [3.95690586e-04]\n",
            " [9.99209166e-01]\n",
            " [5.44657826e-01]\n",
            " [9.95217144e-01]\n",
            " [9.95158017e-01]\n",
            " [1.28404563e-02]\n",
            " [2.20766081e-03]\n",
            " [9.87479210e-01]\n",
            " [8.67860168e-02]\n",
            " [3.18280980e-02]\n",
            " [8.80815312e-02]\n",
            " [1.78413102e-05]\n",
            " [1.13833368e-01]\n",
            " [9.27609444e-01]\n",
            " [8.87168944e-01]\n",
            " [1.32845901e-02]\n",
            " [9.99808073e-01]\n",
            " [9.78749156e-01]\n",
            " [9.99067724e-01]\n",
            " [9.99077320e-01]\n",
            " [5.05591780e-02]\n",
            " [9.10089538e-03]\n",
            " [3.17791296e-06]\n",
            " [2.17882963e-03]\n",
            " [3.31945077e-04]\n",
            " [9.94037092e-01]\n",
            " [3.87103558e-02]\n",
            " [4.41872567e-01]\n",
            " [5.57856821e-02]\n",
            " [6.17077664e-14]\n",
            " [3.67588282e-01]\n",
            " [1.79800531e-03]\n",
            " [9.95857477e-01]\n",
            " [9.85630155e-01]\n",
            " [2.70223081e-05]\n",
            " [1.78073147e-08]\n",
            " [9.89387751e-01]\n",
            " [4.97935852e-03]\n",
            " [9.97234881e-01]\n",
            " [9.90227878e-01]\n",
            " [9.97885227e-01]\n",
            " [1.97192756e-04]\n",
            " [5.00694275e-01]\n",
            " [9.94405150e-01]\n",
            " [9.98693645e-01]\n",
            " [9.92813170e-01]\n",
            " [9.89028275e-01]\n",
            " [5.04330441e-04]\n",
            " [9.91031945e-01]\n",
            " [9.99326944e-01]\n",
            " [9.99142945e-01]\n",
            " [3.68906185e-03]\n",
            " [9.64999080e-01]\n",
            " [4.57594633e-01]\n",
            " [7.97929227e-01]\n",
            " [4.53566872e-06]\n",
            " [9.88552570e-01]\n",
            " [9.85109985e-01]\n",
            " [8.23945880e-01]\n",
            " [8.04282725e-02]\n",
            " [5.17226383e-02]\n",
            " [9.96755719e-01]\n",
            " [2.59633805e-03]\n",
            " [1.97365534e-05]\n",
            " [9.28538859e-01]\n",
            " [9.44213569e-01]\n",
            " [2.53846447e-05]\n",
            " [9.76485074e-01]\n",
            " [4.93057654e-04]\n",
            " [2.44321927e-01]\n",
            " [6.82987034e-01]\n",
            " [9.98189807e-01]\n",
            " [9.99690533e-01]\n",
            " [2.47226730e-02]\n",
            " [8.26969683e-01]\n",
            " [9.99500155e-01]\n",
            " [4.09719488e-03]\n",
            " [9.91388798e-01]\n",
            " [9.91801858e-01]\n",
            " [9.74362016e-01]\n",
            " [9.85136867e-01]\n",
            " [9.84394908e-01]\n",
            " [1.47484308e-02]\n",
            " [9.85305250e-01]\n",
            " [9.85676229e-01]\n",
            " [9.92885113e-01]\n",
            " [9.98142123e-01]\n",
            " [9.88684833e-01]\n",
            " [9.02770102e-01]\n",
            " [9.76992071e-01]\n",
            " [2.89287328e-07]\n",
            " [9.56087470e-01]\n",
            " [2.61463754e-07]\n",
            " [9.87403810e-01]\n",
            " [9.48689282e-01]\n",
            " [9.89241898e-01]\n",
            " [9.81662452e-01]\n",
            " [9.97533560e-01]\n",
            " [8.33794534e-01]\n",
            " [9.92462516e-01]\n",
            " [9.97000456e-01]\n",
            " [8.49098027e-01]\n",
            " [6.58487494e-04]\n",
            " [2.98589759e-04]\n",
            " [9.99090254e-01]\n",
            " [8.65094662e-01]\n",
            " [6.64520121e-05]\n",
            " [6.49143934e-01]\n",
            " [2.23286793e-01]\n",
            " [3.24066669e-01]\n",
            " [9.99913216e-01]\n",
            " [9.53006186e-03]]\n"
          ]
        }
      ]
    },
    {
      "cell_type": "code",
      "source": [
        "# round to get the actual predictions\n",
        "# Note: has to be flattened since the targets are size (N,) while the predictions are size (N,1)\n",
        "import numpy as np\n",
        "P = np.round(P).flatten()\n",
        "print(P)"
      ],
      "metadata": {
        "colab": {
          "base_uri": "https://localhost:8080/"
        },
        "id": "hlFHdSTPQlaK",
        "outputId": "233525c4-5825-4c2b-eec4-89ad5743ff05"
      },
      "execution_count": 49,
      "outputs": [
        {
          "output_type": "stream",
          "name": "stdout",
          "text": [
            "[0. 1. 1. 0. 1. 0. 0. 1. 1. 1. 0. 1. 1. 1. 0. 0. 1. 1. 1. 1. 1. 0. 0. 1.\n",
            " 1. 1. 0. 1. 0. 1. 1. 1. 1. 1. 1. 0. 0. 0. 1. 1. 1. 1. 0. 0. 1. 1. 1. 1.\n",
            " 1. 0. 1. 1. 1. 1. 1. 0. 0. 1. 1. 0. 1. 1. 1. 0. 1. 0. 1. 1. 1. 1. 1. 1.\n",
            " 1. 1. 1. 0. 0. 1. 1. 1. 1. 0. 0. 1. 0. 0. 0. 0. 0. 1. 1. 0. 1. 1. 1. 1.\n",
            " 0. 0. 0. 0. 0. 1. 0. 0. 0. 0. 0. 0. 1. 1. 0. 0. 1. 0. 1. 1. 1. 0. 1. 1.\n",
            " 1. 1. 1. 0. 1. 1. 1. 0. 1. 0. 1. 0. 1. 1. 1. 0. 0. 1. 0. 0. 1. 1. 0. 1.\n",
            " 0. 0. 1. 1. 1. 0. 1. 1. 0. 1. 1. 1. 1. 1. 0. 1. 1. 1. 1. 1. 1. 1. 0. 1.\n",
            " 0. 1. 1. 1. 1. 1. 1. 1. 1. 1. 0. 0. 1. 1. 0. 1. 0. 0. 1. 0.]\n"
          ]
        }
      ]
    },
    {
      "cell_type": "code",
      "source": [
        "# calculate the accuracy, compare it to evaluate() output\n",
        "print(\"Manually calculated accuracy:\", np.mean(P == y_test))\n",
        "print(\"Evaluate output:\", model.evaluate(X_test, y_test))"
      ],
      "metadata": {
        "colab": {
          "base_uri": "https://localhost:8080/"
        },
        "id": "ZU1ooU-xREQ8",
        "outputId": "7e27b1ef-a36f-414b-cc9b-93a60cc87ca3"
      },
      "execution_count": 50,
      "outputs": [
        {
          "output_type": "stream",
          "name": "stdout",
          "text": [
            "Manually calculated accuracy: 0.9840425531914894\n",
            "6/6 [==============================] - 0s 6ms/step - loss: 0.0738 - accuracy: 0.9840\n",
            "Evaluate output: [0.07380731403827667, 0.9840425252914429]\n"
          ]
        }
      ]
    },
    {
      "cell_type": "markdown",
      "source": [
        "# Saving and loading a model"
      ],
      "metadata": {
        "id": "gXajBWW6Rfnd"
      }
    },
    {
      "cell_type": "code",
      "source": [
        "# lets now save our model\n",
        "model.save('linearclassifier.h5')"
      ],
      "metadata": {
        "id": "XNN9f17znsgF"
      },
      "execution_count": 51,
      "outputs": []
    },
    {
      "cell_type": "code",
      "source": [
        "# chack that the model file exists\n",
        "!ls -lh"
      ],
      "metadata": {
        "colab": {
          "base_uri": "https://localhost:8080/"
        },
        "id": "CTYayQ4woJQT",
        "outputId": "d96db8af-46e2-49e9-e490-3240b34c1c77"
      },
      "execution_count": 52,
      "outputs": [
        {
          "output_type": "stream",
          "name": "stdout",
          "text": [
            "total 24K\n",
            "-rw-r--r-- 1 root root  20K Jul  4 11:23 linearclassifier.h5\n",
            "drwxr-xr-x 1 root root 4.0K Jun 29 13:30 sample_data\n"
          ]
        }
      ]
    },
    {
      "cell_type": "code",
      "source": [
        "# lets load the model and confirm that it still works\n",
        "model = tf.keras.models.load_model('linearclassifier.h5')\n",
        "print(model.layers)\n",
        "model.evaluate(X_test, y_test)"
      ],
      "metadata": {
        "colab": {
          "base_uri": "https://localhost:8080/"
        },
        "id": "TMPIXI13o1fx",
        "outputId": "456dcac3-9764-4c5a-e3cf-e33682770563"
      },
      "execution_count": 53,
      "outputs": [
        {
          "output_type": "stream",
          "name": "stdout",
          "text": [
            "[<keras.layers.core.dense.Dense object at 0x7fca3d6285e0>]\n",
            "6/6 [==============================] - 0s 3ms/step - loss: 0.0738 - accuracy: 0.9840\n"
          ]
        },
        {
          "output_type": "execute_result",
          "data": {
            "text/plain": [
              "[0.07380731403827667, 0.9840425252914429]"
            ]
          },
          "metadata": {},
          "execution_count": 53
        }
      ]
    },
    {
      "cell_type": "code",
      "source": [
        "# download\n",
        "from google.colab import files\n",
        "files.download(\"linearclassifier.h5\")"
      ],
      "metadata": {
        "colab": {
          "base_uri": "https://localhost:8080/",
          "height": 17
        },
        "id": "5AfU0q-5qHhP",
        "outputId": "df5d3896-8ad2-4302-cf89-3dd5831c8e4b"
      },
      "execution_count": 55,
      "outputs": [
        {
          "output_type": "display_data",
          "data": {
            "text/plain": [
              "<IPython.core.display.Javascript object>"
            ],
            "application/javascript": [
              "\n",
              "    async function download(id, filename, size) {\n",
              "      if (!google.colab.kernel.accessAllowed) {\n",
              "        return;\n",
              "      }\n",
              "      const div = document.createElement('div');\n",
              "      const label = document.createElement('label');\n",
              "      label.textContent = `Downloading \"${filename}\": `;\n",
              "      div.appendChild(label);\n",
              "      const progress = document.createElement('progress');\n",
              "      progress.max = size;\n",
              "      div.appendChild(progress);\n",
              "      document.body.appendChild(div);\n",
              "\n",
              "      const buffers = [];\n",
              "      let downloaded = 0;\n",
              "\n",
              "      const channel = await google.colab.kernel.comms.open(id);\n",
              "      // Send a message to notify the kernel that we're ready.\n",
              "      channel.send({})\n",
              "\n",
              "      for await (const message of channel.messages) {\n",
              "        // Send a message to notify the kernel that we're ready.\n",
              "        channel.send({})\n",
              "        if (message.buffers) {\n",
              "          for (const buffer of message.buffers) {\n",
              "            buffers.push(buffer);\n",
              "            downloaded += buffer.byteLength;\n",
              "            progress.value = downloaded;\n",
              "          }\n",
              "        }\n",
              "      }\n",
              "      const blob = new Blob(buffers, {type: 'application/binary'});\n",
              "      const a = document.createElement('a');\n",
              "      a.href = window.URL.createObjectURL(blob);\n",
              "      a.download = filename;\n",
              "      div.appendChild(a);\n",
              "      a.click();\n",
              "      div.remove();\n",
              "    }\n",
              "  "
            ]
          },
          "metadata": {}
        },
        {
          "output_type": "display_data",
          "data": {
            "text/plain": [
              "<IPython.core.display.Javascript object>"
            ],
            "application/javascript": [
              "download(\"download_2cc34b40-e86b-4984-b9f0-7ddd9c9ea15e\", \"linearclassifier.h5\", 20240)"
            ]
          },
          "metadata": {}
        }
      ]
    }
  ]
}